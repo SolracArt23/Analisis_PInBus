{
  "cells": [
    {
      "cell_type": "code",
      "execution_count": 1,
      "metadata": {
        "id": "x_Vq8sN_s9dg"
      },
      "outputs": [],
      "source": [
        "import requests\n",
        "import pandas as pd\n",
        "import numpy as np\n",
        "import unicodedata\n",
        "#Seccion de API google Sheet\n",
        "from google.oauth2.credentials import Credentials\n",
        "from google.oauth2 import service_account\n",
        "from googleapiclient.discovery import build"
      ]
    },
    {
      "cell_type": "markdown",
      "metadata": {
        "id": "3mt6itw0tX7S"
      },
      "source": [
        "\n",
        "## **Seccion 1:** Descargue de datos\n",
        "*****\n",
        "Se descargaran los datos directamente de la  pagina [datos.gov](https://datos.gov.co/api/views/eh75-8ah6/rows.csv?accessType=DOWNLOAD), donde se almacenaran bajo el nombre de `datos_sinLimpiar.csv`\n",
        "\n",
        "**Nota:** Esto puede tomar un tiempo, por ello tomaremos una muestra equivalente al 50%"
      ]
    },
    {
      "cell_type": "markdown",
      "metadata": {},
      "source": [
        "* Descargar los datos directamente de la pagina web"
      ]
    },
    {
      "cell_type": "code",
      "execution_count": null,
      "metadata": {
        "colab": {
          "base_uri": "https://localhost:8080/",
          "height": 396
        },
        "id": "R7RwTkc_tXfN",
        "outputId": "beb984d6-807a-4112-f045-dd2a608f68ac"
      },
      "outputs": [],
      "source": [
        "url = \"https://datos.gov.co/api/views/eh75-8ah6/rows.csv?accessType=DOWNLOAD\"\n",
        "\n",
        "#Extraccion de los datos dado url\n",
        "response = requests.get(url)\n",
        "\n",
        "if response.status_code == 200:\n",
        "  with open('datos_sinLimpiar.csv','wb') as archivo:\n",
        "    archivo.write(response.content)\n"
      ]
    },
    {
      "cell_type": "markdown",
      "metadata": {
        "id": "CqNkzZOewIWE"
      },
      "source": [
        "#### Comprobacion de los datos descargados\n",
        "****\n",
        "\n",
        "\n"
      ]
    },
    {
      "cell_type": "code",
      "execution_count": 6,
      "metadata": {
        "id": "XHYpWdB-wH-U"
      },
      "outputs": [
        {
          "data": {
            "text/html": [
              "<div>\n",
              "<style scoped>\n",
              "    .dataframe tbody tr th:only-of-type {\n",
              "        vertical-align: middle;\n",
              "    }\n",
              "\n",
              "    .dataframe tbody tr th {\n",
              "        vertical-align: top;\n",
              "    }\n",
              "\n",
              "    .dataframe thead th {\n",
              "        text-align: right;\n",
              "    }\n",
              "</style>\n",
              "<table border=\"1\" class=\"dataframe\">\n",
              "  <thead>\n",
              "    <tr style=\"text-align: right;\">\n",
              "      <th></th>\n",
              "      <th>TERMINAL</th>\n",
              "      <th>CLASE_VEHICULO</th>\n",
              "      <th>NIVEL_SERVICIO</th>\n",
              "      <th>MUNICIPIO_ORIGEN_RUTA</th>\n",
              "      <th>MUNICIPIO_DESTINO_RUTA</th>\n",
              "      <th>FECHA_DESPACHO</th>\n",
              "      <th>HORA_DESPACHO</th>\n",
              "      <th>TIPO_DESPACHO</th>\n",
              "      <th>DESPACHOS</th>\n",
              "      <th>PASAJEROS</th>\n",
              "    </tr>\n",
              "  </thead>\n",
              "  <tbody>\n",
              "    <tr>\n",
              "      <th>0</th>\n",
              "      <td>T.T. DE BOGOTÁ NORTE</td>\n",
              "      <td>MICROBUS</td>\n",
              "      <td>LUJO</td>\n",
              "      <td>11001</td>\n",
              "      <td>15759</td>\n",
              "      <td>03/01/2021 12:00:00 AM</td>\n",
              "      <td>8</td>\n",
              "      <td>TRANSITO</td>\n",
              "      <td>2</td>\n",
              "      <td>0</td>\n",
              "    </tr>\n",
              "    <tr>\n",
              "      <th>1</th>\n",
              "      <td>T.T. DE BOGOTÁ SALITRE</td>\n",
              "      <td>BUS</td>\n",
              "      <td>LUJO</td>\n",
              "      <td>11001</td>\n",
              "      <td>76001</td>\n",
              "      <td>03/12/2021 12:00:00 AM</td>\n",
              "      <td>11</td>\n",
              "      <td>ORIGEN</td>\n",
              "      <td>4</td>\n",
              "      <td>45</td>\n",
              "    </tr>\n",
              "    <tr>\n",
              "      <th>2</th>\n",
              "      <td>T.T. DE CALI</td>\n",
              "      <td>BUSETA</td>\n",
              "      <td>BASICO</td>\n",
              "      <td>76001</td>\n",
              "      <td>52378</td>\n",
              "      <td>01/09/2021 12:00:00 AM</td>\n",
              "      <td>6</td>\n",
              "      <td>ORIGEN</td>\n",
              "      <td>1</td>\n",
              "      <td>3</td>\n",
              "    </tr>\n",
              "    <tr>\n",
              "      <th>3</th>\n",
              "      <td>T.T. DE MELGAR</td>\n",
              "      <td>BUS</td>\n",
              "      <td>BASICO</td>\n",
              "      <td>73001</td>\n",
              "      <td>11001</td>\n",
              "      <td>08/13/2021 12:00:00 AM</td>\n",
              "      <td>16</td>\n",
              "      <td>TRANSITO</td>\n",
              "      <td>1</td>\n",
              "      <td>10</td>\n",
              "    </tr>\n",
              "    <tr>\n",
              "      <th>4</th>\n",
              "      <td>T.T. DE MELGAR</td>\n",
              "      <td>MICROBUS</td>\n",
              "      <td>BASICO</td>\n",
              "      <td>73449</td>\n",
              "      <td>25488</td>\n",
              "      <td>02/28/2021 12:00:00 AM</td>\n",
              "      <td>12</td>\n",
              "      <td>ORIGEN</td>\n",
              "      <td>1</td>\n",
              "      <td>1</td>\n",
              "    </tr>\n",
              "  </tbody>\n",
              "</table>\n",
              "</div>"
            ],
            "text/plain": [
              "                 TERMINAL CLASE_VEHICULO NIVEL_SERVICIO  \\\n",
              "0    T.T. DE BOGOTÁ NORTE       MICROBUS           LUJO   \n",
              "1  T.T. DE BOGOTÁ SALITRE            BUS           LUJO   \n",
              "2            T.T. DE CALI         BUSETA         BASICO   \n",
              "3          T.T. DE MELGAR            BUS         BASICO   \n",
              "4          T.T. DE MELGAR       MICROBUS         BASICO   \n",
              "\n",
              "   MUNICIPIO_ORIGEN_RUTA  MUNICIPIO_DESTINO_RUTA          FECHA_DESPACHO  \\\n",
              "0                  11001                   15759  03/01/2021 12:00:00 AM   \n",
              "1                  11001                   76001  03/12/2021 12:00:00 AM   \n",
              "2                  76001                   52378  01/09/2021 12:00:00 AM   \n",
              "3                  73001                   11001  08/13/2021 12:00:00 AM   \n",
              "4                  73449                   25488  02/28/2021 12:00:00 AM   \n",
              "\n",
              "   HORA_DESPACHO TIPO_DESPACHO  DESPACHOS  PASAJEROS  \n",
              "0              8      TRANSITO          2          0  \n",
              "1             11        ORIGEN          4         45  \n",
              "2              6        ORIGEN          1          3  \n",
              "3             16      TRANSITO          1         10  \n",
              "4             12        ORIGEN          1          1  "
            ]
          },
          "execution_count": 6,
          "metadata": {},
          "output_type": "execute_result"
        }
      ],
      "source": [
        "datos = pd.read_csv('Content/datos_sinLimpiar.csv')\n",
        "datos.head()"
      ]
    },
    {
      "cell_type": "markdown",
      "metadata": {
        "id": "QtStOSoMG8AL"
      },
      "source": [
        "##### Datos de muestreo\n",
        "****\n",
        "Dado a al cantidad masiva de datos se usara una muestra aleatoria de estos a la cual se le aplicara la limpieza de los datos"
      ]
    },
    {
      "cell_type": "code",
      "execution_count": 7,
      "metadata": {
        "id": "2Hq5x122HG5B"
      },
      "outputs": [
        {
          "name": "stdout",
          "output_type": "stream",
          "text": [
            "Longitud de datos originales 21613532\n",
            "longitud de la muestra 10806766\n"
          ]
        }
      ],
      "source": [
        "print(f\"Longitud de datos originales {len(datos)}\")\n",
        "#para este caso tomaremos el 50% de los datos totales\n",
        "datos = datos[:int(len(datos)*0.5)]\n",
        "print(f\"longitud de la muestra {len(datos)}\")"
      ]
    },
    {
      "cell_type": "markdown",
      "metadata": {
        "id": "8D1zSQr0vXWD"
      },
      "source": [
        "### Subseccion 1.1: Descargue de datos de diviPola\n",
        "****\n",
        "Se extraeran los datos del codigo municipal para su correcta traduccion en los `datos_sinLimpiar.csv`,donde a su vez esto se almacenaran en un arhivo ..csv llamado `diccionario_municipios.csv`"
      ]
    },
    {
      "cell_type": "code",
      "execution_count": 3,
      "metadata": {
        "id": "C_3T6aqVvLmb"
      },
      "outputs": [],
      "source": [
        "url = \"https://datos.gov.co/api/views/gdxc-w37w/rows.csv?accessType=DOWNLOAD\"\n",
        "\n",
        "#Extraccion de los datos dado url\n",
        "response = requests.get(url)\n",
        "\n",
        "if response.status_code == 200:\n",
        "  with open('Content/diccionario_municipios.csv','wb') as archivo:\n",
        "    archivo.write(response.content)"
      ]
    },
    {
      "cell_type": "markdown",
      "metadata": {
        "id": "sqG4B-bKx9YE"
      },
      "source": [
        "#### Comprobacion de los datos descargados\n",
        "****\n"
      ]
    },
    {
      "cell_type": "code",
      "execution_count": 8,
      "metadata": {
        "id": "zJ1okymTxvHV"
      },
      "outputs": [
        {
          "data": {
            "text/html": [
              "<div>\n",
              "<style scoped>\n",
              "    .dataframe tbody tr th:only-of-type {\n",
              "        vertical-align: middle;\n",
              "    }\n",
              "\n",
              "    .dataframe tbody tr th {\n",
              "        vertical-align: top;\n",
              "    }\n",
              "\n",
              "    .dataframe thead th {\n",
              "        text-align: right;\n",
              "    }\n",
              "</style>\n",
              "<table border=\"1\" class=\"dataframe\">\n",
              "  <thead>\n",
              "    <tr style=\"text-align: right;\">\n",
              "      <th></th>\n",
              "      <th>Código Departamento</th>\n",
              "      <th>Código Municipio</th>\n",
              "      <th>Nombre Departamento</th>\n",
              "      <th>Nombre Municipio</th>\n",
              "      <th>Tipo: Municipio / Isla / Área no municipalizada</th>\n",
              "    </tr>\n",
              "  </thead>\n",
              "  <tbody>\n",
              "    <tr>\n",
              "      <th>0</th>\n",
              "      <td>05</td>\n",
              "      <td>5001.0</td>\n",
              "      <td>ANTIOQUIA</td>\n",
              "      <td>MEDELLÍN</td>\n",
              "      <td>Municipio</td>\n",
              "    </tr>\n",
              "    <tr>\n",
              "      <th>1</th>\n",
              "      <td>05</td>\n",
              "      <td>5002.0</td>\n",
              "      <td>ANTIOQUIA</td>\n",
              "      <td>ABEJORRAL</td>\n",
              "      <td>Municipio</td>\n",
              "    </tr>\n",
              "    <tr>\n",
              "      <th>2</th>\n",
              "      <td>05</td>\n",
              "      <td>5004.0</td>\n",
              "      <td>ANTIOQUIA</td>\n",
              "      <td>ABRIAQUÍ</td>\n",
              "      <td>Municipio</td>\n",
              "    </tr>\n",
              "    <tr>\n",
              "      <th>3</th>\n",
              "      <td>05</td>\n",
              "      <td>5021.0</td>\n",
              "      <td>ANTIOQUIA</td>\n",
              "      <td>ALEJANDRÍA</td>\n",
              "      <td>Municipio</td>\n",
              "    </tr>\n",
              "    <tr>\n",
              "      <th>4</th>\n",
              "      <td>05</td>\n",
              "      <td>5030.0</td>\n",
              "      <td>ANTIOQUIA</td>\n",
              "      <td>AMAGÁ</td>\n",
              "      <td>Municipio</td>\n",
              "    </tr>\n",
              "  </tbody>\n",
              "</table>\n",
              "</div>"
            ],
            "text/plain": [
              "  Código Departamento  Código Municipio Nombre Departamento Nombre Municipio  \\\n",
              "0                  05            5001.0           ANTIOQUIA         MEDELLÍN   \n",
              "1                  05            5002.0           ANTIOQUIA        ABEJORRAL   \n",
              "2                  05            5004.0           ANTIOQUIA         ABRIAQUÍ   \n",
              "3                  05            5021.0           ANTIOQUIA       ALEJANDRÍA   \n",
              "4                  05            5030.0           ANTIOQUIA            AMAGÁ   \n",
              "\n",
              "  Tipo: Municipio / Isla / Área no municipalizada  \n",
              "0                                       Municipio  \n",
              "1                                       Municipio  \n",
              "2                                       Municipio  \n",
              "3                                       Municipio  \n",
              "4                                       Municipio  "
            ]
          },
          "execution_count": 8,
          "metadata": {},
          "output_type": "execute_result"
        }
      ],
      "source": [
        "dicc = pd.read_csv(\"Content/diccionario_municipios.csv\")\n",
        "dicc.head()"
      ]
    },
    {
      "cell_type": "markdown",
      "metadata": {
        "id": "mYyPuQS5Tz_e"
      },
      "source": [
        "## **Seccion 2:** Limpieza del dataset dicc\n",
        "****"
      ]
    },
    {
      "cell_type": "markdown",
      "metadata": {
        "id": "AftDsFRWUHIt"
      },
      "source": [
        "* DEtectando datos con elementos nulos"
      ]
    },
    {
      "cell_type": "code",
      "execution_count": 9,
      "metadata": {
        "id": "vtaPKRWUTzf5"
      },
      "outputs": [
        {
          "data": {
            "text/plain": [
              "Código Departamento                                0\n",
              "Código Municipio                                   5\n",
              "Nombre Departamento                                5\n",
              "Nombre Municipio                                   5\n",
              "Tipo: Municipio / Isla / Área no municipalizada    5\n",
              "dtype: int64"
            ]
          },
          "execution_count": 9,
          "metadata": {},
          "output_type": "execute_result"
        }
      ],
      "source": [
        "dicc.isnull().sum()"
      ]
    },
    {
      "cell_type": "markdown",
      "metadata": {
        "id": "ofPneDxOURqC"
      },
      "source": [
        "* Eliminando datos nulos"
      ]
    },
    {
      "cell_type": "code",
      "execution_count": 10,
      "metadata": {
        "id": "WTni62AmUVQ5"
      },
      "outputs": [
        {
          "data": {
            "text/plain": [
              "Código Departamento                                0\n",
              "Código Municipio                                   0\n",
              "Nombre Departamento                                0\n",
              "Nombre Municipio                                   0\n",
              "Tipo: Municipio / Isla / Área no municipalizada    0\n",
              "dtype: int64"
            ]
          },
          "execution_count": 10,
          "metadata": {},
          "output_type": "execute_result"
        }
      ],
      "source": [
        "dicc=dicc.dropna()\n",
        "\n",
        "#Comprobando\n",
        "dicc.isnull().sum()"
      ]
    },
    {
      "cell_type": "markdown",
      "metadata": {
        "id": "gir1I1WvUm36"
      },
      "source": [
        "* Transformando codigo de municipios de float a int"
      ]
    },
    {
      "cell_type": "code",
      "execution_count": 11,
      "metadata": {
        "id": "xcAWoSsHUjVH"
      },
      "outputs": [
        {
          "data": {
            "text/plain": [
              "Código Departamento                                 object\n",
              "Código Municipio                                   float64\n",
              "Nombre Departamento                                 object\n",
              "Nombre Municipio                                    object\n",
              "Tipo: Municipio / Isla / Área no municipalizada     object\n",
              "dtype: object"
            ]
          },
          "execution_count": 11,
          "metadata": {},
          "output_type": "execute_result"
        }
      ],
      "source": [
        "dicc.dtypes"
      ]
    },
    {
      "cell_type": "markdown",
      "metadata": {},
      "source": [
        "* Quitar tildes"
      ]
    },
    {
      "cell_type": "code",
      "execution_count": 12,
      "metadata": {},
      "outputs": [],
      "source": [
        "def quitar_tildes(texto):\n",
        "    return ''.join(c for c in unicodedata.normalize('NFD', texto) if unicodedata.category(c) != 'Mn')\n",
        "\n",
        "\n",
        "#Quitar las tildes del texto\n",
        "dicc[\"Nombre Municipio\"] = dicc[\"Nombre Municipio\"].apply(quitar_tildes)\n",
        "datos[\"TERMINAL\"] = datos[\"TERMINAL\"].apply(quitar_tildes)"
      ]
    },
    {
      "cell_type": "code",
      "execution_count": 13,
      "metadata": {
        "id": "165QDDL8Ur5E"
      },
      "outputs": [],
      "source": [
        "dicc['Código Municipio']=dicc['Código Municipio'].astype('int')"
      ]
    },
    {
      "cell_type": "markdown",
      "metadata": {
        "id": "R8D33dGYU2Px"
      },
      "source": [
        "## **Seccion 3:** Traduccion de los datos de dicc en datos\n",
        "****"
      ]
    },
    {
      "cell_type": "markdown",
      "metadata": {
        "id": "7A31TIA9VA6h"
      },
      "source": [
        "* Creando la funcion de traduccion"
      ]
    },
    {
      "cell_type": "code",
      "execution_count": 14,
      "metadata": {
        "id": "sr_RcTysWBRD"
      },
      "outputs": [],
      "source": [
        "diccionario=np.array(dicc.iloc[:,[1,3]])\n",
        "diccionario = dict(diccionario)"
      ]
    },
    {
      "cell_type": "code",
      "execution_count": 15,
      "metadata": {},
      "outputs": [],
      "source": [
        "diccionario_depa=np.array(dicc.iloc[:,[1,3]])\n",
        "diccionario_depa = dict(diccionario_depa)"
      ]
    },
    {
      "cell_type": "code",
      "execution_count": 16,
      "metadata": {
        "id": "QkAVF8GOYDGr"
      },
      "outputs": [
        {
          "data": {
            "text/plain": [
              "'BOGOTA. D.C.'"
            ]
          },
          "execution_count": 16,
          "metadata": {},
          "output_type": "execute_result"
        }
      ],
      "source": [
        "diccionario[datos['MUNICIPIO_ORIGEN_RUTA'][0]]\n"
      ]
    },
    {
      "cell_type": "code",
      "execution_count": 23,
      "metadata": {
        "id": "RfL6zO2kXaoW"
      },
      "outputs": [],
      "source": [
        "datos['MUNICIPIO_ORIGEN_RUTA'] = [ diccionario[dato] for dato in datos['MUNICIPIO_ORIGEN_RUTA']]\n",
        "datos['MUNICIPIO_DESTINO_RUTA'] = [ diccionario[dato] for dato in datos['MUNICIPIO_DESTINO_RUTA']]\n"
      ]
    },
    {
      "cell_type": "markdown",
      "metadata": {},
      "source": [
        "## **Seccion 4:** Transformacion de fecha a dia , mes y año\n",
        "***\n"
      ]
    },
    {
      "cell_type": "markdown",
      "metadata": {},
      "source": [
        "* Extraccion de la hora y la fecha"
      ]
    },
    {
      "cell_type": "code",
      "execution_count": 17,
      "metadata": {},
      "outputs": [],
      "source": [
        "datos[['fecha','hora','tipo_hora']]=datos['FECHA_DESPACHO'].str.split(' ',expand=True)\n",
        "datos.drop(columns=['FECHA_DESPACHO'],inplace=True)"
      ]
    },
    {
      "cell_type": "markdown",
      "metadata": {},
      "source": [
        "* Extraccion de dia,mes y año con base a la columna recien agregada *fecha*"
      ]
    },
    {
      "cell_type": "code",
      "execution_count": 18,
      "metadata": {},
      "outputs": [
        {
          "data": {
            "text/html": [
              "<div>\n",
              "<style scoped>\n",
              "    .dataframe tbody tr th:only-of-type {\n",
              "        vertical-align: middle;\n",
              "    }\n",
              "\n",
              "    .dataframe tbody tr th {\n",
              "        vertical-align: top;\n",
              "    }\n",
              "\n",
              "    .dataframe thead th {\n",
              "        text-align: right;\n",
              "    }\n",
              "</style>\n",
              "<table border=\"1\" class=\"dataframe\">\n",
              "  <thead>\n",
              "    <tr style=\"text-align: right;\">\n",
              "      <th></th>\n",
              "      <th>TERMINAL</th>\n",
              "      <th>CLASE_VEHICULO</th>\n",
              "      <th>NIVEL_SERVICIO</th>\n",
              "      <th>MUNICIPIO_ORIGEN_RUTA</th>\n",
              "      <th>MUNICIPIO_DESTINO_RUTA</th>\n",
              "      <th>HORA_DESPACHO</th>\n",
              "      <th>TIPO_DESPACHO</th>\n",
              "      <th>DESPACHOS</th>\n",
              "      <th>PASAJEROS</th>\n",
              "      <th>hora</th>\n",
              "      <th>tipo_hora</th>\n",
              "      <th>mes_despacho</th>\n",
              "      <th>dia_despacho</th>\n",
              "      <th>ano_despacho</th>\n",
              "    </tr>\n",
              "  </thead>\n",
              "  <tbody>\n",
              "    <tr>\n",
              "      <th>0</th>\n",
              "      <td>T.T. DE BOGOTA NORTE</td>\n",
              "      <td>MICROBUS</td>\n",
              "      <td>LUJO</td>\n",
              "      <td>11001</td>\n",
              "      <td>15759</td>\n",
              "      <td>8</td>\n",
              "      <td>TRANSITO</td>\n",
              "      <td>2</td>\n",
              "      <td>0</td>\n",
              "      <td>12:00:00</td>\n",
              "      <td>AM</td>\n",
              "      <td>03</td>\n",
              "      <td>01</td>\n",
              "      <td>2021</td>\n",
              "    </tr>\n",
              "    <tr>\n",
              "      <th>1</th>\n",
              "      <td>T.T. DE BOGOTA SALITRE</td>\n",
              "      <td>BUS</td>\n",
              "      <td>LUJO</td>\n",
              "      <td>11001</td>\n",
              "      <td>76001</td>\n",
              "      <td>11</td>\n",
              "      <td>ORIGEN</td>\n",
              "      <td>4</td>\n",
              "      <td>45</td>\n",
              "      <td>12:00:00</td>\n",
              "      <td>AM</td>\n",
              "      <td>03</td>\n",
              "      <td>12</td>\n",
              "      <td>2021</td>\n",
              "    </tr>\n",
              "    <tr>\n",
              "      <th>2</th>\n",
              "      <td>T.T. DE CALI</td>\n",
              "      <td>BUSETA</td>\n",
              "      <td>BASICO</td>\n",
              "      <td>76001</td>\n",
              "      <td>52378</td>\n",
              "      <td>6</td>\n",
              "      <td>ORIGEN</td>\n",
              "      <td>1</td>\n",
              "      <td>3</td>\n",
              "      <td>12:00:00</td>\n",
              "      <td>AM</td>\n",
              "      <td>01</td>\n",
              "      <td>09</td>\n",
              "      <td>2021</td>\n",
              "    </tr>\n",
              "    <tr>\n",
              "      <th>3</th>\n",
              "      <td>T.T. DE MELGAR</td>\n",
              "      <td>BUS</td>\n",
              "      <td>BASICO</td>\n",
              "      <td>73001</td>\n",
              "      <td>11001</td>\n",
              "      <td>16</td>\n",
              "      <td>TRANSITO</td>\n",
              "      <td>1</td>\n",
              "      <td>10</td>\n",
              "      <td>12:00:00</td>\n",
              "      <td>AM</td>\n",
              "      <td>08</td>\n",
              "      <td>13</td>\n",
              "      <td>2021</td>\n",
              "    </tr>\n",
              "    <tr>\n",
              "      <th>4</th>\n",
              "      <td>T.T. DE MELGAR</td>\n",
              "      <td>MICROBUS</td>\n",
              "      <td>BASICO</td>\n",
              "      <td>73449</td>\n",
              "      <td>25488</td>\n",
              "      <td>12</td>\n",
              "      <td>ORIGEN</td>\n",
              "      <td>1</td>\n",
              "      <td>1</td>\n",
              "      <td>12:00:00</td>\n",
              "      <td>AM</td>\n",
              "      <td>02</td>\n",
              "      <td>28</td>\n",
              "      <td>2021</td>\n",
              "    </tr>\n",
              "  </tbody>\n",
              "</table>\n",
              "</div>"
            ],
            "text/plain": [
              "                 TERMINAL CLASE_VEHICULO NIVEL_SERVICIO  \\\n",
              "0    T.T. DE BOGOTA NORTE       MICROBUS           LUJO   \n",
              "1  T.T. DE BOGOTA SALITRE            BUS           LUJO   \n",
              "2            T.T. DE CALI         BUSETA         BASICO   \n",
              "3          T.T. DE MELGAR            BUS         BASICO   \n",
              "4          T.T. DE MELGAR       MICROBUS         BASICO   \n",
              "\n",
              "   MUNICIPIO_ORIGEN_RUTA  MUNICIPIO_DESTINO_RUTA  HORA_DESPACHO TIPO_DESPACHO  \\\n",
              "0                  11001                   15759              8      TRANSITO   \n",
              "1                  11001                   76001             11        ORIGEN   \n",
              "2                  76001                   52378              6        ORIGEN   \n",
              "3                  73001                   11001             16      TRANSITO   \n",
              "4                  73449                   25488             12        ORIGEN   \n",
              "\n",
              "   DESPACHOS  PASAJEROS      hora tipo_hora mes_despacho dia_despacho  \\\n",
              "0          2          0  12:00:00        AM           03           01   \n",
              "1          4         45  12:00:00        AM           03           12   \n",
              "2          1          3  12:00:00        AM           01           09   \n",
              "3          1         10  12:00:00        AM           08           13   \n",
              "4          1          1  12:00:00        AM           02           28   \n",
              "\n",
              "  ano_despacho  \n",
              "0         2021  \n",
              "1         2021  \n",
              "2         2021  \n",
              "3         2021  \n",
              "4         2021  "
            ]
          },
          "execution_count": 18,
          "metadata": {},
          "output_type": "execute_result"
        }
      ],
      "source": [
        "datos[['mes_despacho','dia_despacho','ano_despacho']] = datos['fecha'].str.split('/',expand=True)\n",
        "datos.drop(columns=['fecha'],inplace=True)\n",
        "datos.head()"
      ]
    },
    {
      "cell_type": "markdown",
      "metadata": {},
      "source": [
        "* **Nota:** Dado que todas las horas son iguales se eliminaran  la columna de *hora* y *tipo hora*"
      ]
    },
    {
      "cell_type": "code",
      "execution_count": 19,
      "metadata": {},
      "outputs": [
        {
          "data": {
            "text/plain": [
              "'12:00:00'"
            ]
          },
          "execution_count": 19,
          "metadata": {},
          "output_type": "execute_result"
        }
      ],
      "source": [
        "#Comrpobacion de lo mencionado\n",
        "datos['hora'].unique()[0]"
      ]
    },
    {
      "cell_type": "code",
      "execution_count": 20,
      "metadata": {},
      "outputs": [
        {
          "data": {
            "text/html": [
              "<div>\n",
              "<style scoped>\n",
              "    .dataframe tbody tr th:only-of-type {\n",
              "        vertical-align: middle;\n",
              "    }\n",
              "\n",
              "    .dataframe tbody tr th {\n",
              "        vertical-align: top;\n",
              "    }\n",
              "\n",
              "    .dataframe thead th {\n",
              "        text-align: right;\n",
              "    }\n",
              "</style>\n",
              "<table border=\"1\" class=\"dataframe\">\n",
              "  <thead>\n",
              "    <tr style=\"text-align: right;\">\n",
              "      <th></th>\n",
              "      <th>TERMINAL</th>\n",
              "      <th>CLASE_VEHICULO</th>\n",
              "      <th>NIVEL_SERVICIO</th>\n",
              "      <th>MUNICIPIO_ORIGEN_RUTA</th>\n",
              "      <th>MUNICIPIO_DESTINO_RUTA</th>\n",
              "      <th>HORA_DESPACHO</th>\n",
              "      <th>TIPO_DESPACHO</th>\n",
              "      <th>DESPACHOS</th>\n",
              "      <th>PASAJEROS</th>\n",
              "      <th>mes_despacho</th>\n",
              "      <th>dia_despacho</th>\n",
              "      <th>ano_despacho</th>\n",
              "    </tr>\n",
              "  </thead>\n",
              "  <tbody>\n",
              "    <tr>\n",
              "      <th>0</th>\n",
              "      <td>T.T. DE BOGOTA NORTE</td>\n",
              "      <td>MICROBUS</td>\n",
              "      <td>LUJO</td>\n",
              "      <td>11001</td>\n",
              "      <td>15759</td>\n",
              "      <td>8</td>\n",
              "      <td>TRANSITO</td>\n",
              "      <td>2</td>\n",
              "      <td>0</td>\n",
              "      <td>03</td>\n",
              "      <td>01</td>\n",
              "      <td>2021</td>\n",
              "    </tr>\n",
              "    <tr>\n",
              "      <th>1</th>\n",
              "      <td>T.T. DE BOGOTA SALITRE</td>\n",
              "      <td>BUS</td>\n",
              "      <td>LUJO</td>\n",
              "      <td>11001</td>\n",
              "      <td>76001</td>\n",
              "      <td>11</td>\n",
              "      <td>ORIGEN</td>\n",
              "      <td>4</td>\n",
              "      <td>45</td>\n",
              "      <td>03</td>\n",
              "      <td>12</td>\n",
              "      <td>2021</td>\n",
              "    </tr>\n",
              "    <tr>\n",
              "      <th>2</th>\n",
              "      <td>T.T. DE CALI</td>\n",
              "      <td>BUSETA</td>\n",
              "      <td>BASICO</td>\n",
              "      <td>76001</td>\n",
              "      <td>52378</td>\n",
              "      <td>6</td>\n",
              "      <td>ORIGEN</td>\n",
              "      <td>1</td>\n",
              "      <td>3</td>\n",
              "      <td>01</td>\n",
              "      <td>09</td>\n",
              "      <td>2021</td>\n",
              "    </tr>\n",
              "    <tr>\n",
              "      <th>3</th>\n",
              "      <td>T.T. DE MELGAR</td>\n",
              "      <td>BUS</td>\n",
              "      <td>BASICO</td>\n",
              "      <td>73001</td>\n",
              "      <td>11001</td>\n",
              "      <td>16</td>\n",
              "      <td>TRANSITO</td>\n",
              "      <td>1</td>\n",
              "      <td>10</td>\n",
              "      <td>08</td>\n",
              "      <td>13</td>\n",
              "      <td>2021</td>\n",
              "    </tr>\n",
              "    <tr>\n",
              "      <th>4</th>\n",
              "      <td>T.T. DE MELGAR</td>\n",
              "      <td>MICROBUS</td>\n",
              "      <td>BASICO</td>\n",
              "      <td>73449</td>\n",
              "      <td>25488</td>\n",
              "      <td>12</td>\n",
              "      <td>ORIGEN</td>\n",
              "      <td>1</td>\n",
              "      <td>1</td>\n",
              "      <td>02</td>\n",
              "      <td>28</td>\n",
              "      <td>2021</td>\n",
              "    </tr>\n",
              "  </tbody>\n",
              "</table>\n",
              "</div>"
            ],
            "text/plain": [
              "                 TERMINAL CLASE_VEHICULO NIVEL_SERVICIO  \\\n",
              "0    T.T. DE BOGOTA NORTE       MICROBUS           LUJO   \n",
              "1  T.T. DE BOGOTA SALITRE            BUS           LUJO   \n",
              "2            T.T. DE CALI         BUSETA         BASICO   \n",
              "3          T.T. DE MELGAR            BUS         BASICO   \n",
              "4          T.T. DE MELGAR       MICROBUS         BASICO   \n",
              "\n",
              "   MUNICIPIO_ORIGEN_RUTA  MUNICIPIO_DESTINO_RUTA  HORA_DESPACHO TIPO_DESPACHO  \\\n",
              "0                  11001                   15759              8      TRANSITO   \n",
              "1                  11001                   76001             11        ORIGEN   \n",
              "2                  76001                   52378              6        ORIGEN   \n",
              "3                  73001                   11001             16      TRANSITO   \n",
              "4                  73449                   25488             12        ORIGEN   \n",
              "\n",
              "   DESPACHOS  PASAJEROS mes_despacho dia_despacho ano_despacho  \n",
              "0          2          0           03           01         2021  \n",
              "1          4         45           03           12         2021  \n",
              "2          1          3           01           09         2021  \n",
              "3          1         10           08           13         2021  \n",
              "4          1          1           02           28         2021  "
            ]
          },
          "execution_count": 20,
          "metadata": {},
          "output_type": "execute_result"
        }
      ],
      "source": [
        "datos.drop(columns=['hora','tipo_hora'],inplace=True)\n",
        "datos.head()"
      ]
    },
    {
      "cell_type": "markdown",
      "metadata": {
        "id": "eQJKMYGKY7JY"
      },
      "source": [
        "## **Seccion 5:** Guardando el nuevo csv\n",
        "***"
      ]
    },
    {
      "cell_type": "markdown",
      "metadata": {},
      "source": [
        "* Comproabcion del estado del dataset"
      ]
    },
    {
      "cell_type": "code",
      "execution_count": 24,
      "metadata": {
        "id": "_rDx3wNsYhuL"
      },
      "outputs": [
        {
          "data": {
            "text/html": [
              "<div>\n",
              "<style scoped>\n",
              "    .dataframe tbody tr th:only-of-type {\n",
              "        vertical-align: middle;\n",
              "    }\n",
              "\n",
              "    .dataframe tbody tr th {\n",
              "        vertical-align: top;\n",
              "    }\n",
              "\n",
              "    .dataframe thead th {\n",
              "        text-align: right;\n",
              "    }\n",
              "</style>\n",
              "<table border=\"1\" class=\"dataframe\">\n",
              "  <thead>\n",
              "    <tr style=\"text-align: right;\">\n",
              "      <th></th>\n",
              "      <th>TERMINAL</th>\n",
              "      <th>CLASE_VEHICULO</th>\n",
              "      <th>NIVEL_SERVICIO</th>\n",
              "      <th>MUNICIPIO_ORIGEN_RUTA</th>\n",
              "      <th>MUNICIPIO_DESTINO_RUTA</th>\n",
              "      <th>HORA_DESPACHO</th>\n",
              "      <th>TIPO_DESPACHO</th>\n",
              "      <th>DESPACHOS</th>\n",
              "      <th>PASAJEROS</th>\n",
              "      <th>mes_despacho</th>\n",
              "      <th>dia_despacho</th>\n",
              "      <th>ano_despacho</th>\n",
              "    </tr>\n",
              "  </thead>\n",
              "  <tbody>\n",
              "    <tr>\n",
              "      <th>0</th>\n",
              "      <td>T.T. DE BOGOTA NORTE</td>\n",
              "      <td>MICROBUS</td>\n",
              "      <td>LUJO</td>\n",
              "      <td>BOGOTA. D.C.</td>\n",
              "      <td>SOGAMOSO</td>\n",
              "      <td>8</td>\n",
              "      <td>TRANSITO</td>\n",
              "      <td>2</td>\n",
              "      <td>0</td>\n",
              "      <td>03</td>\n",
              "      <td>01</td>\n",
              "      <td>2021</td>\n",
              "    </tr>\n",
              "    <tr>\n",
              "      <th>1</th>\n",
              "      <td>T.T. DE BOGOTA SALITRE</td>\n",
              "      <td>BUS</td>\n",
              "      <td>LUJO</td>\n",
              "      <td>BOGOTA. D.C.</td>\n",
              "      <td>CALI</td>\n",
              "      <td>11</td>\n",
              "      <td>ORIGEN</td>\n",
              "      <td>4</td>\n",
              "      <td>45</td>\n",
              "      <td>03</td>\n",
              "      <td>12</td>\n",
              "      <td>2021</td>\n",
              "    </tr>\n",
              "    <tr>\n",
              "      <th>2</th>\n",
              "      <td>T.T. DE CALI</td>\n",
              "      <td>BUSETA</td>\n",
              "      <td>BASICO</td>\n",
              "      <td>CALI</td>\n",
              "      <td>LA CRUZ</td>\n",
              "      <td>6</td>\n",
              "      <td>ORIGEN</td>\n",
              "      <td>1</td>\n",
              "      <td>3</td>\n",
              "      <td>01</td>\n",
              "      <td>09</td>\n",
              "      <td>2021</td>\n",
              "    </tr>\n",
              "    <tr>\n",
              "      <th>3</th>\n",
              "      <td>T.T. DE MELGAR</td>\n",
              "      <td>BUS</td>\n",
              "      <td>BASICO</td>\n",
              "      <td>IBAGUE</td>\n",
              "      <td>BOGOTA. D.C.</td>\n",
              "      <td>16</td>\n",
              "      <td>TRANSITO</td>\n",
              "      <td>1</td>\n",
              "      <td>10</td>\n",
              "      <td>08</td>\n",
              "      <td>13</td>\n",
              "      <td>2021</td>\n",
              "    </tr>\n",
              "    <tr>\n",
              "      <th>4</th>\n",
              "      <td>T.T. DE MELGAR</td>\n",
              "      <td>MICROBUS</td>\n",
              "      <td>BASICO</td>\n",
              "      <td>MELGAR</td>\n",
              "      <td>NILO</td>\n",
              "      <td>12</td>\n",
              "      <td>ORIGEN</td>\n",
              "      <td>1</td>\n",
              "      <td>1</td>\n",
              "      <td>02</td>\n",
              "      <td>28</td>\n",
              "      <td>2021</td>\n",
              "    </tr>\n",
              "  </tbody>\n",
              "</table>\n",
              "</div>"
            ],
            "text/plain": [
              "                 TERMINAL CLASE_VEHICULO NIVEL_SERVICIO MUNICIPIO_ORIGEN_RUTA  \\\n",
              "0    T.T. DE BOGOTA NORTE       MICROBUS           LUJO          BOGOTA. D.C.   \n",
              "1  T.T. DE BOGOTA SALITRE            BUS           LUJO          BOGOTA. D.C.   \n",
              "2            T.T. DE CALI         BUSETA         BASICO                  CALI   \n",
              "3          T.T. DE MELGAR            BUS         BASICO                IBAGUE   \n",
              "4          T.T. DE MELGAR       MICROBUS         BASICO                MELGAR   \n",
              "\n",
              "  MUNICIPIO_DESTINO_RUTA  HORA_DESPACHO TIPO_DESPACHO  DESPACHOS  PASAJEROS  \\\n",
              "0               SOGAMOSO              8      TRANSITO          2          0   \n",
              "1                   CALI             11        ORIGEN          4         45   \n",
              "2                LA CRUZ              6        ORIGEN          1          3   \n",
              "3           BOGOTA. D.C.             16      TRANSITO          1         10   \n",
              "4                   NILO             12        ORIGEN          1          1   \n",
              "\n",
              "  mes_despacho dia_despacho ano_despacho  \n",
              "0           03           01         2021  \n",
              "1           03           12         2021  \n",
              "2           01           09         2021  \n",
              "3           08           13         2021  \n",
              "4           02           28         2021  "
            ]
          },
          "execution_count": 24,
          "metadata": {},
          "output_type": "execute_result"
        }
      ],
      "source": [
        "datos.head()"
      ]
    },
    {
      "cell_type": "markdown",
      "metadata": {},
      "source": [
        "* Descargue del dataset en formato .csv (nota si se descarga este pesara al rededor de 1,2GB; esto contiene toda la informacion)\n",
        "\n",
        "* **Nota:** Si desea descargarlos coloque la palabra *si* tal y como esta escrita en esta nota"
      ]
    },
    {
      "cell_type": "code",
      "execution_count": 27,
      "metadata": {
        "id": "yCbHgM1WZf0q"
      },
      "outputs": [],
      "source": [
        "if input(\"¿Desea descargar el archivo .csv? \").lower() == 'si':\n",
        "    datos.to_csv('Datos_listos.csv')"
      ]
    },
    {
      "cell_type": "markdown",
      "metadata": {},
      "source": [
        "## **Seccion 6**:Cargue de datos a google sheet\n",
        "****\n",
        "Para esta seccion cogeremos una muestra y la almacenaremos en un libro de *google sheet* \n",
        "esto con el fin de poder crear el analisis con *power bi*"
      ]
    },
    {
      "cell_type": "markdown",
      "metadata": {},
      "source": [
        "### **Seccion 6.1:** Creacion de conexion con el libro de google sheet\n",
        "****"
      ]
    },
    {
      "cell_type": "code",
      "execution_count": 42,
      "metadata": {},
      "outputs": [],
      "source": [
        "#informacion basica\n",
        "Scopes = ['https://www.googleapis.com/auth/spreadsheets']\n",
        "key = 'key.json'\n",
        "id_sheet = '1v4w_c-0D8moJFnzxFxrCGN0d7Hyqni8HkgCCTD5e5F4'\n",
        "\n",
        "#conectar\n",
        "creds = None\n",
        "creds = service_account.Credentials.from_service_account_file(key,scopes=Scopes)\n",
        "\n",
        "#Generar API\n",
        "service = build('sheets','v4',credentials=creds)\n",
        "EXCEl = service.spreadsheets()"
      ]
    },
    {
      "cell_type": "markdown",
      "metadata": {},
      "source": [
        "### **Seccion 6.2:** Cargue de los datos a google sheet\n",
        "****"
      ]
    },
    {
      "cell_type": "code",
      "execution_count": 38,
      "metadata": {},
      "outputs": [],
      "source": [
        "datos_list = datos.values.tolist()\n",
        "columnas =list(datos.columns)\n",
        "\n",
        "#Agregar las columnas\n",
        "datos_list [0] = columnas"
      ]
    },
    {
      "cell_type": "code",
      "execution_count": 43,
      "metadata": {},
      "outputs": [
        {
          "ename": "HttpError",
          "evalue": "<HttpError 400 when requesting https://sheets.googleapis.com/v4/spreadsheets/1v4w_c-0D8moJFnzxFxrCGN0d7Hyqni8HkgCCTD5e5F4/values/main_tables%21A1:append?valueInputOption=USER_ENTERED&alt=json returned \"This action would increase the number of cells in the workbook above the limit of 10000000 cells.\". Details: \"This action would increase the number of cells in the workbook above the limit of 10000000 cells.\">",
          "output_type": "error",
          "traceback": [
            "\u001b[1;31m---------------------------------------------------------------------------\u001b[0m",
            "\u001b[1;31mHttpError\u001b[0m                                 Traceback (most recent call last)",
            "Cell \u001b[1;32mIn[43], line 1\u001b[0m\n\u001b[1;32m----> 1\u001b[0m EXCEl\u001b[39m.\u001b[39;49mvalues()\u001b[39m.\u001b[39;49mappend(spreadsheetId\u001b[39m=\u001b[39;49mid_sheet,\u001b[39mrange\u001b[39;49m\u001b[39m=\u001b[39;49m\u001b[39m\"\u001b[39;49m\u001b[39mmain_tables!A1\u001b[39;49m\u001b[39m\"\u001b[39;49m,valueInputOption\u001b[39m=\u001b[39;49m\u001b[39m'\u001b[39;49m\u001b[39mUSER_ENTERED\u001b[39;49m\u001b[39m'\u001b[39;49m,body\u001b[39m=\u001b[39;49m{\u001b[39m'\u001b[39;49m\u001b[39mvalues\u001b[39;49m\u001b[39m'\u001b[39;49m:datos_list[:\u001b[39m370000\u001b[39;49m]})\u001b[39m.\u001b[39;49mexecute()\n",
            "File \u001b[1;32mc:\\Users\\Carlos\\Desktop\\Proyector Carlos\\proyecto pinbus\\Pinbus\\lib\\site-packages\\googleapiclient\\_helpers.py:130\u001b[0m, in \u001b[0;36mpositional.<locals>.positional_decorator.<locals>.positional_wrapper\u001b[1;34m(*args, **kwargs)\u001b[0m\n\u001b[0;32m    128\u001b[0m     \u001b[39melif\u001b[39;00m positional_parameters_enforcement \u001b[39m==\u001b[39m POSITIONAL_WARNING:\n\u001b[0;32m    129\u001b[0m         logger\u001b[39m.\u001b[39mwarning(message)\n\u001b[1;32m--> 130\u001b[0m \u001b[39mreturn\u001b[39;00m wrapped(\u001b[39m*\u001b[39margs, \u001b[39m*\u001b[39m\u001b[39m*\u001b[39mkwargs)\n",
            "File \u001b[1;32mc:\\Users\\Carlos\\Desktop\\Proyector Carlos\\proyecto pinbus\\Pinbus\\lib\\site-packages\\googleapiclient\\http.py:938\u001b[0m, in \u001b[0;36mHttpRequest.execute\u001b[1;34m(self, http, num_retries)\u001b[0m\n\u001b[0;32m    936\u001b[0m     callback(resp)\n\u001b[0;32m    937\u001b[0m \u001b[39mif\u001b[39;00m resp\u001b[39m.\u001b[39mstatus \u001b[39m>\u001b[39m\u001b[39m=\u001b[39m \u001b[39m300\u001b[39m:\n\u001b[1;32m--> 938\u001b[0m     \u001b[39mraise\u001b[39;00m HttpError(resp, content, uri\u001b[39m=\u001b[39m\u001b[39mself\u001b[39m\u001b[39m.\u001b[39muri)\n\u001b[0;32m    939\u001b[0m \u001b[39mreturn\u001b[39;00m \u001b[39mself\u001b[39m\u001b[39m.\u001b[39mpostproc(resp, content)\n",
            "\u001b[1;31mHttpError\u001b[0m: <HttpError 400 when requesting https://sheets.googleapis.com/v4/spreadsheets/1v4w_c-0D8moJFnzxFxrCGN0d7Hyqni8HkgCCTD5e5F4/values/main_tables%21A1:append?valueInputOption=USER_ENTERED&alt=json returned \"This action would increase the number of cells in the workbook above the limit of 10000000 cells.\". Details: \"This action would increase the number of cells in the workbook above the limit of 10000000 cells.\">"
          ]
        }
      ],
      "source": [
        "EXCEl.values().append(spreadsheetId=id _sheet,range=\"main_tables!A1\",valueInputOption='USER_ENTERED',body={'values':datos_list[:370000]}).execute()\n"
      ]
    }
  ],
  "metadata": {
    "accelerator": "GPU",
    "colab": {
      "gpuType": "T4",
      "provenance": []
    },
    "kernelspec": {
      "display_name": "Python 3",
      "name": "python3"
    },
    "language_info": {
      "codemirror_mode": {
        "name": "ipython",
        "version": 3
      },
      "file_extension": ".py",
      "mimetype": "text/x-python",
      "name": "python",
      "nbconvert_exporter": "python",
      "pygments_lexer": "ipython3",
      "version": "3.10.6"
    }
  },
  "nbformat": 4,
  "nbformat_minor": 0
}
