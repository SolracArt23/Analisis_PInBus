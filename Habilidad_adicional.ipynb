{
  "cells": [
    {
      "cell_type": "code",
      "execution_count": 4,
      "metadata": {
        "id": "x_Vq8sN_s9dg"
      },
      "outputs": [],
      "source": [
        "import requests\n",
        "import pandas as pd\n",
        "import numpy as np\n",
        "import json"
      ]
    },
    {
      "cell_type": "markdown",
      "metadata": {
        "id": "3mt6itw0tX7S"
      },
      "source": [
        "\n",
        "## **Seccion 1:** Descargue de datos\n",
        "*****\n",
        "Se descargaran los datos directamente de la  pagina [datos.gov](https://datos.gov.co/api/views/eh75-8ah6/rows.csv?accessType=DOWNLOAD), donde se almacenaran bajo el nombre de `datos_sinLimpiar.csv`\n",
        "\n",
        "**Nota:** Esto puede tomar un tiempo"
      ]
    },
    {
      "cell_type": "code",
      "execution_count": null,
      "metadata": {
        "id": "R7RwTkc_tXfN"
      },
      "outputs": [],
      "source": [
        "url = \"https://datos.gov.co/api/views/eh75-8ah6/rows.csv?accessType=DOWNLOAD\"\n",
        "\n",
        "#Extraccion de los datos dado url\n",
        "response = requests.get(url)\n",
        "\n",
        "if response.status_code == 200:\n",
        "  with open('Content/datos_sinLimpiar.csv','wb') as archivo:\n",
        "    archivo.write(response.content)\n"
      ]
    },
    {
      "cell_type": "markdown",
      "metadata": {
        "id": "CqNkzZOewIWE"
      },
      "source": [
        "#### Comprobacion de los datos descargados\n",
        "****\n",
        "\n",
        "\n"
      ]
    },
    {
      "cell_type": "code",
      "execution_count": 5,
      "metadata": {
        "colab": {
          "base_uri": "https://localhost:8080/",
          "height": 337
        },
        "id": "XHYpWdB-wH-U",
        "outputId": "d8af72a4-dfff-40a9-e5c0-1edc55671f6f"
      },
      "outputs": [
        {
          "data": {
            "text/html": [
              "<div>\n",
              "<style scoped>\n",
              "    .dataframe tbody tr th:only-of-type {\n",
              "        vertical-align: middle;\n",
              "    }\n",
              "\n",
              "    .dataframe tbody tr th {\n",
              "        vertical-align: top;\n",
              "    }\n",
              "\n",
              "    .dataframe thead th {\n",
              "        text-align: right;\n",
              "    }\n",
              "</style>\n",
              "<table border=\"1\" class=\"dataframe\">\n",
              "  <thead>\n",
              "    <tr style=\"text-align: right;\">\n",
              "      <th></th>\n",
              "      <th>TERMINAL</th>\n",
              "      <th>CLASE_VEHICULO</th>\n",
              "      <th>NIVEL_SERVICIO</th>\n",
              "      <th>MUNICIPIO_ORIGEN_RUTA</th>\n",
              "      <th>MUNICIPIO_DESTINO_RUTA</th>\n",
              "      <th>FECHA_DESPACHO</th>\n",
              "      <th>HORA_DESPACHO</th>\n",
              "      <th>TIPO_DESPACHO</th>\n",
              "      <th>DESPACHOS</th>\n",
              "      <th>PASAJEROS</th>\n",
              "    </tr>\n",
              "  </thead>\n",
              "  <tbody>\n",
              "    <tr>\n",
              "      <th>0</th>\n",
              "      <td>T.T. DE BOGOTÁ NORTE</td>\n",
              "      <td>MICROBUS</td>\n",
              "      <td>LUJO</td>\n",
              "      <td>11001</td>\n",
              "      <td>15759</td>\n",
              "      <td>03/01/2021 12:00:00 AM</td>\n",
              "      <td>8</td>\n",
              "      <td>TRANSITO</td>\n",
              "      <td>2</td>\n",
              "      <td>0</td>\n",
              "    </tr>\n",
              "    <tr>\n",
              "      <th>1</th>\n",
              "      <td>T.T. DE BOGOTÁ SALITRE</td>\n",
              "      <td>BUS</td>\n",
              "      <td>LUJO</td>\n",
              "      <td>11001</td>\n",
              "      <td>76001</td>\n",
              "      <td>03/12/2021 12:00:00 AM</td>\n",
              "      <td>11</td>\n",
              "      <td>ORIGEN</td>\n",
              "      <td>4</td>\n",
              "      <td>45</td>\n",
              "    </tr>\n",
              "    <tr>\n",
              "      <th>2</th>\n",
              "      <td>T.T. DE CALI</td>\n",
              "      <td>BUSETA</td>\n",
              "      <td>BASICO</td>\n",
              "      <td>76001</td>\n",
              "      <td>52378</td>\n",
              "      <td>01/09/2021 12:00:00 AM</td>\n",
              "      <td>6</td>\n",
              "      <td>ORIGEN</td>\n",
              "      <td>1</td>\n",
              "      <td>3</td>\n",
              "    </tr>\n",
              "    <tr>\n",
              "      <th>3</th>\n",
              "      <td>T.T. DE MELGAR</td>\n",
              "      <td>BUS</td>\n",
              "      <td>BASICO</td>\n",
              "      <td>73001</td>\n",
              "      <td>11001</td>\n",
              "      <td>08/13/2021 12:00:00 AM</td>\n",
              "      <td>16</td>\n",
              "      <td>TRANSITO</td>\n",
              "      <td>1</td>\n",
              "      <td>10</td>\n",
              "    </tr>\n",
              "    <tr>\n",
              "      <th>4</th>\n",
              "      <td>T.T. DE MELGAR</td>\n",
              "      <td>MICROBUS</td>\n",
              "      <td>BASICO</td>\n",
              "      <td>73449</td>\n",
              "      <td>25488</td>\n",
              "      <td>02/28/2021 12:00:00 AM</td>\n",
              "      <td>12</td>\n",
              "      <td>ORIGEN</td>\n",
              "      <td>1</td>\n",
              "      <td>1</td>\n",
              "    </tr>\n",
              "  </tbody>\n",
              "</table>\n",
              "</div>"
            ],
            "text/plain": [
              "                 TERMINAL CLASE_VEHICULO NIVEL_SERVICIO  \\\n",
              "0    T.T. DE BOGOTÁ NORTE       MICROBUS           LUJO   \n",
              "1  T.T. DE BOGOTÁ SALITRE            BUS           LUJO   \n",
              "2            T.T. DE CALI         BUSETA         BASICO   \n",
              "3          T.T. DE MELGAR            BUS         BASICO   \n",
              "4          T.T. DE MELGAR       MICROBUS         BASICO   \n",
              "\n",
              "   MUNICIPIO_ORIGEN_RUTA  MUNICIPIO_DESTINO_RUTA          FECHA_DESPACHO  \\\n",
              "0                  11001                   15759  03/01/2021 12:00:00 AM   \n",
              "1                  11001                   76001  03/12/2021 12:00:00 AM   \n",
              "2                  76001                   52378  01/09/2021 12:00:00 AM   \n",
              "3                  73001                   11001  08/13/2021 12:00:00 AM   \n",
              "4                  73449                   25488  02/28/2021 12:00:00 AM   \n",
              "\n",
              "   HORA_DESPACHO TIPO_DESPACHO  DESPACHOS  PASAJEROS  \n",
              "0              8      TRANSITO          2          0  \n",
              "1             11        ORIGEN          4         45  \n",
              "2              6        ORIGEN          1          3  \n",
              "3             16      TRANSITO          1         10  \n",
              "4             12        ORIGEN          1          1  "
            ]
          },
          "execution_count": 5,
          "metadata": {},
          "output_type": "execute_result"
        }
      ],
      "source": [
        "datos = pd.read_csv('Content/datos_sinLimpiar.csv')\n",
        "datos.head()"
      ]
    },
    {
      "cell_type": "markdown",
      "metadata": {
        "id": "QtStOSoMG8AL"
      },
      "source": [
        "### Datos de muestreo\n",
        "****\n",
        "Dado a al cantidad masiva de datos se usara una muestra aleatoria de estos a la cual se le aplicara la limpieza de los datos"
      ]
    },
    {
      "cell_type": "code",
      "execution_count": 6,
      "metadata": {
        "colab": {
          "base_uri": "https://localhost:8080/"
        },
        "id": "2Hq5x122HG5B",
        "outputId": "08fb48a5-b665-485c-bf57-5b712061e472"
      },
      "outputs": [
        {
          "name": "stdout",
          "output_type": "stream",
          "text": [
            "Longitud de datos originales 22169927\n",
            "longitud de la muestra 11084963\n"
          ]
        }
      ],
      "source": [
        "print(f\"Longitud de datos originales {len(datos)}\")\n",
        "#para este caso tomaremos el 50% de los datos totales\n",
        "datos = datos[:int(len(datos)*0.5)]\n",
        "print(f\"longitud de la muestra {len(datos)}\")"
      ]
    },
    {
      "cell_type": "markdown",
      "metadata": {
        "id": "8D1zSQr0vXWD"
      },
      "source": [
        "### Subseccion 1.1: Descargue de datos de diviPola\n",
        "****\n",
        "Se extraeran los datos del codigo municipal para su correcta traduccion en los `datos_sinLimpiar.csv`,donde a su vez esto se almacenaran en un arhivo ..csv llamado `diccionario_municipios.csv`"
      ]
    },
    {
      "cell_type": "code",
      "execution_count": 6,
      "metadata": {
        "id": "C_3T6aqVvLmb"
      },
      "outputs": [],
      "source": [
        "url = \"https://datos.gov.co/api/views/gdxc-w37w/rows.csv?accessType=DOWNLOAD\"\n",
        "\n",
        "#Extraccion de los datos dado url\n",
        "response = requests.get(url)\n",
        "\n",
        "if response.status_code == 200:\n",
        "  with open('Content/diccionario_municipios.csv','wb') as archivo:\n",
        "    archivo.write(response.content)"
      ]
    },
    {
      "cell_type": "markdown",
      "metadata": {
        "id": "sqG4B-bKx9YE"
      },
      "source": [
        "#### Comprobacion de los datos descargados\n",
        "****\n"
      ]
    },
    {
      "cell_type": "code",
      "execution_count": 7,
      "metadata": {
        "colab": {
          "base_uri": "https://localhost:8080/",
          "height": 206
        },
        "id": "zJ1okymTxvHV",
        "outputId": "c8b9a114-5178-4eda-d151-ddf0e6e8a277"
      },
      "outputs": [
        {
          "data": {
            "text/html": [
              "<div>\n",
              "<style scoped>\n",
              "    .dataframe tbody tr th:only-of-type {\n",
              "        vertical-align: middle;\n",
              "    }\n",
              "\n",
              "    .dataframe tbody tr th {\n",
              "        vertical-align: top;\n",
              "    }\n",
              "\n",
              "    .dataframe thead th {\n",
              "        text-align: right;\n",
              "    }\n",
              "</style>\n",
              "<table border=\"1\" class=\"dataframe\">\n",
              "  <thead>\n",
              "    <tr style=\"text-align: right;\">\n",
              "      <th></th>\n",
              "      <th>Código Departamento</th>\n",
              "      <th>Código Municipio</th>\n",
              "      <th>Nombre Departamento</th>\n",
              "      <th>Nombre Municipio</th>\n",
              "      <th>Tipo: Municipio / Isla / Área no municipalizada</th>\n",
              "    </tr>\n",
              "  </thead>\n",
              "  <tbody>\n",
              "    <tr>\n",
              "      <th>0</th>\n",
              "      <td>05</td>\n",
              "      <td>5001.0</td>\n",
              "      <td>ANTIOQUIA</td>\n",
              "      <td>MEDELLÍN</td>\n",
              "      <td>Municipio</td>\n",
              "    </tr>\n",
              "    <tr>\n",
              "      <th>1</th>\n",
              "      <td>05</td>\n",
              "      <td>5002.0</td>\n",
              "      <td>ANTIOQUIA</td>\n",
              "      <td>ABEJORRAL</td>\n",
              "      <td>Municipio</td>\n",
              "    </tr>\n",
              "    <tr>\n",
              "      <th>2</th>\n",
              "      <td>05</td>\n",
              "      <td>5004.0</td>\n",
              "      <td>ANTIOQUIA</td>\n",
              "      <td>ABRIAQUÍ</td>\n",
              "      <td>Municipio</td>\n",
              "    </tr>\n",
              "    <tr>\n",
              "      <th>3</th>\n",
              "      <td>05</td>\n",
              "      <td>5021.0</td>\n",
              "      <td>ANTIOQUIA</td>\n",
              "      <td>ALEJANDRÍA</td>\n",
              "      <td>Municipio</td>\n",
              "    </tr>\n",
              "    <tr>\n",
              "      <th>4</th>\n",
              "      <td>05</td>\n",
              "      <td>5030.0</td>\n",
              "      <td>ANTIOQUIA</td>\n",
              "      <td>AMAGÁ</td>\n",
              "      <td>Municipio</td>\n",
              "    </tr>\n",
              "  </tbody>\n",
              "</table>\n",
              "</div>"
            ],
            "text/plain": [
              "  Código Departamento  Código Municipio Nombre Departamento Nombre Municipio  \\\n",
              "0                  05            5001.0           ANTIOQUIA         MEDELLÍN   \n",
              "1                  05            5002.0           ANTIOQUIA        ABEJORRAL   \n",
              "2                  05            5004.0           ANTIOQUIA         ABRIAQUÍ   \n",
              "3                  05            5021.0           ANTIOQUIA       ALEJANDRÍA   \n",
              "4                  05            5030.0           ANTIOQUIA            AMAGÁ   \n",
              "\n",
              "  Tipo: Municipio / Isla / Área no municipalizada  \n",
              "0                                       Municipio  \n",
              "1                                       Municipio  \n",
              "2                                       Municipio  \n",
              "3                                       Municipio  \n",
              "4                                       Municipio  "
            ]
          },
          "execution_count": 7,
          "metadata": {},
          "output_type": "execute_result"
        }
      ],
      "source": [
        "dicc = pd.read_csv(\"Content/diccionario_municipios.csv\")\n",
        "dicc.head()"
      ]
    },
    {
      "cell_type": "markdown",
      "metadata": {
        "id": "TSMyvLzFyK7j"
      },
      "source": [
        "## **Seccion 2: Limpieza de datos y creacion del csv para humanos**\n",
        "***\n",
        "En esta seccion se vera lo siguiente:\n",
        "\n",
        "1. Limpieza de datos nulos\n",
        "1. Cambio de numero a datos de `MUNICIPIO_ORIGEN_RUTA` y\t`MUNICIPIO_DESTINO_RUTA`\n",
        "1. Separacion de la columna *fecha_despacho* por *mes_despacho*, *dia_despacho* y *ano_despacho*\n",
        "1. Encoding de datos *Categoricos*\n",
        "1. Creacion del archivo `diccionario_municipios.json` para los datos de `diccionario_municipio.csv`\n",
        "1. Descargue del nuevo dataset con nombre de `datos_limpios.csv`"
      ]
    },
    {
      "cell_type": "code",
      "execution_count": 8,
      "metadata": {
        "colab": {
          "base_uri": "https://localhost:8080/",
          "height": 337
        },
        "id": "yaqLCx1O1_ip",
        "outputId": "e000ae3b-6e81-4448-b429-14d2943f6fb5"
      },
      "outputs": [
        {
          "data": {
            "text/html": [
              "<div>\n",
              "<style scoped>\n",
              "    .dataframe tbody tr th:only-of-type {\n",
              "        vertical-align: middle;\n",
              "    }\n",
              "\n",
              "    .dataframe tbody tr th {\n",
              "        vertical-align: top;\n",
              "    }\n",
              "\n",
              "    .dataframe thead th {\n",
              "        text-align: right;\n",
              "    }\n",
              "</style>\n",
              "<table border=\"1\" class=\"dataframe\">\n",
              "  <thead>\n",
              "    <tr style=\"text-align: right;\">\n",
              "      <th></th>\n",
              "      <th>TERMINAL</th>\n",
              "      <th>CLASE_VEHICULO</th>\n",
              "      <th>NIVEL_SERVICIO</th>\n",
              "      <th>MUNICIPIO_ORIGEN_RUTA</th>\n",
              "      <th>MUNICIPIO_DESTINO_RUTA</th>\n",
              "      <th>FECHA_DESPACHO</th>\n",
              "      <th>HORA_DESPACHO</th>\n",
              "      <th>TIPO_DESPACHO</th>\n",
              "      <th>DESPACHOS</th>\n",
              "      <th>PASAJEROS</th>\n",
              "    </tr>\n",
              "  </thead>\n",
              "  <tbody>\n",
              "    <tr>\n",
              "      <th>0</th>\n",
              "      <td>T.T. DE BOGOTÁ NORTE</td>\n",
              "      <td>MICROBUS</td>\n",
              "      <td>LUJO</td>\n",
              "      <td>11001</td>\n",
              "      <td>15759</td>\n",
              "      <td>03/01/2021 12:00:00 AM</td>\n",
              "      <td>8</td>\n",
              "      <td>TRANSITO</td>\n",
              "      <td>2</td>\n",
              "      <td>0</td>\n",
              "    </tr>\n",
              "    <tr>\n",
              "      <th>1</th>\n",
              "      <td>T.T. DE BOGOTÁ SALITRE</td>\n",
              "      <td>BUS</td>\n",
              "      <td>LUJO</td>\n",
              "      <td>11001</td>\n",
              "      <td>76001</td>\n",
              "      <td>03/12/2021 12:00:00 AM</td>\n",
              "      <td>11</td>\n",
              "      <td>ORIGEN</td>\n",
              "      <td>4</td>\n",
              "      <td>45</td>\n",
              "    </tr>\n",
              "    <tr>\n",
              "      <th>2</th>\n",
              "      <td>T.T. DE CALI</td>\n",
              "      <td>BUSETA</td>\n",
              "      <td>BASICO</td>\n",
              "      <td>76001</td>\n",
              "      <td>52378</td>\n",
              "      <td>01/09/2021 12:00:00 AM</td>\n",
              "      <td>6</td>\n",
              "      <td>ORIGEN</td>\n",
              "      <td>1</td>\n",
              "      <td>3</td>\n",
              "    </tr>\n",
              "    <tr>\n",
              "      <th>3</th>\n",
              "      <td>T.T. DE MELGAR</td>\n",
              "      <td>BUS</td>\n",
              "      <td>BASICO</td>\n",
              "      <td>73001</td>\n",
              "      <td>11001</td>\n",
              "      <td>08/13/2021 12:00:00 AM</td>\n",
              "      <td>16</td>\n",
              "      <td>TRANSITO</td>\n",
              "      <td>1</td>\n",
              "      <td>10</td>\n",
              "    </tr>\n",
              "    <tr>\n",
              "      <th>4</th>\n",
              "      <td>T.T. DE MELGAR</td>\n",
              "      <td>MICROBUS</td>\n",
              "      <td>BASICO</td>\n",
              "      <td>73449</td>\n",
              "      <td>25488</td>\n",
              "      <td>02/28/2021 12:00:00 AM</td>\n",
              "      <td>12</td>\n",
              "      <td>ORIGEN</td>\n",
              "      <td>1</td>\n",
              "      <td>1</td>\n",
              "    </tr>\n",
              "  </tbody>\n",
              "</table>\n",
              "</div>"
            ],
            "text/plain": [
              "                 TERMINAL CLASE_VEHICULO NIVEL_SERVICIO  \\\n",
              "0    T.T. DE BOGOTÁ NORTE       MICROBUS           LUJO   \n",
              "1  T.T. DE BOGOTÁ SALITRE            BUS           LUJO   \n",
              "2            T.T. DE CALI         BUSETA         BASICO   \n",
              "3          T.T. DE MELGAR            BUS         BASICO   \n",
              "4          T.T. DE MELGAR       MICROBUS         BASICO   \n",
              "\n",
              "   MUNICIPIO_ORIGEN_RUTA  MUNICIPIO_DESTINO_RUTA          FECHA_DESPACHO  \\\n",
              "0                  11001                   15759  03/01/2021 12:00:00 AM   \n",
              "1                  11001                   76001  03/12/2021 12:00:00 AM   \n",
              "2                  76001                   52378  01/09/2021 12:00:00 AM   \n",
              "3                  73001                   11001  08/13/2021 12:00:00 AM   \n",
              "4                  73449                   25488  02/28/2021 12:00:00 AM   \n",
              "\n",
              "   HORA_DESPACHO TIPO_DESPACHO  DESPACHOS  PASAJEROS  \n",
              "0              8      TRANSITO          2          0  \n",
              "1             11        ORIGEN          4         45  \n",
              "2              6        ORIGEN          1          3  \n",
              "3             16      TRANSITO          1         10  \n",
              "4             12        ORIGEN          1          1  "
            ]
          },
          "execution_count": 8,
          "metadata": {},
          "output_type": "execute_result"
        }
      ],
      "source": [
        "datos.head()"
      ]
    },
    {
      "cell_type": "markdown",
      "metadata": {
        "id": "pQhDnsx60A9o"
      },
      "source": [
        "**1. Limpieza de datos nulos**\n",
        "***\n"
      ]
    },
    {
      "cell_type": "markdown",
      "metadata": {
        "id": "3kR8p9NV0QqF"
      },
      "source": [
        " * **deteccion de los datos**"
      ]
    },
    {
      "cell_type": "code",
      "execution_count": 9,
      "metadata": {
        "colab": {
          "base_uri": "https://localhost:8080/"
        },
        "id": "UgWfjwdc0GVk",
        "outputId": "b0251b1f-4e78-4066-836c-a0224c69331f"
      },
      "outputs": [
        {
          "data": {
            "text/plain": [
              "TERMINAL                  0\n",
              "CLASE_VEHICULO            0\n",
              "NIVEL_SERVICIO            0\n",
              "MUNICIPIO_ORIGEN_RUTA     0\n",
              "MUNICIPIO_DESTINO_RUTA    0\n",
              "FECHA_DESPACHO            0\n",
              "HORA_DESPACHO             0\n",
              "TIPO_DESPACHO             0\n",
              "DESPACHOS                 0\n",
              "PASAJEROS                 0\n",
              "dtype: int64"
            ]
          },
          "execution_count": 9,
          "metadata": {},
          "output_type": "execute_result"
        }
      ],
      "source": [
        "datos.isnull().sum()"
      ]
    },
    {
      "cell_type": "markdown",
      "metadata": {},
      "source": [
        "**2.5 Traducir del codigo de municipio a su respectivo nombre**\n",
        "***"
      ]
    },
    {
      "cell_type": "code",
      "execution_count": 11,
      "metadata": {},
      "outputs": [],
      "source": [
        "diccionario=np.array(dicc.iloc[:,[1,3]])\n",
        "diccionario = dict(diccionario)"
      ]
    },
    {
      "cell_type": "code",
      "execution_count": 12,
      "metadata": {},
      "outputs": [],
      "source": [
        "datos['MUNICIPIO_ORIGEN_RUTA'] = [ diccionario[dato] for dato in datos['MUNICIPIO_ORIGEN_RUTA']]\n",
        "datos['MUNICIPIO_DESTINO_RUTA'] = [ diccionario[dato] for dato in datos['MUNICIPIO_DESTINO_RUTA']]"
      ]
    },
    {
      "cell_type": "markdown",
      "metadata": {
        "id": "n-SbA8Xa2z1B"
      },
      "source": [
        "**3. Separacion de la columna *fecha_despacho* por *mes_despacho*, *dia_despacho* y *hora_despacho***\n",
        "***"
      ]
    },
    {
      "cell_type": "code",
      "execution_count": 13,
      "metadata": {
        "id": "ipjxmxy43ANP"
      },
      "outputs": [],
      "source": [
        "datos[['fecha','hora','tipo_hora']]=datos['FECHA_DESPACHO'].str.split(' ',expand=True)\n",
        "datos.drop(columns=['FECHA_DESPACHO'],inplace=True)"
      ]
    },
    {
      "cell_type": "code",
      "execution_count": 14,
      "metadata": {
        "colab": {
          "base_uri": "https://localhost:8080/",
          "height": 391
        },
        "id": "JElJcvSY9h59",
        "outputId": "2305136e-7421-4211-f209-da71dd9760d0"
      },
      "outputs": [
        {
          "data": {
            "text/html": [
              "<div>\n",
              "<style scoped>\n",
              "    .dataframe tbody tr th:only-of-type {\n",
              "        vertical-align: middle;\n",
              "    }\n",
              "\n",
              "    .dataframe tbody tr th {\n",
              "        vertical-align: top;\n",
              "    }\n",
              "\n",
              "    .dataframe thead th {\n",
              "        text-align: right;\n",
              "    }\n",
              "</style>\n",
              "<table border=\"1\" class=\"dataframe\">\n",
              "  <thead>\n",
              "    <tr style=\"text-align: right;\">\n",
              "      <th></th>\n",
              "      <th>TERMINAL</th>\n",
              "      <th>CLASE_VEHICULO</th>\n",
              "      <th>NIVEL_SERVICIO</th>\n",
              "      <th>MUNICIPIO_ORIGEN_RUTA</th>\n",
              "      <th>MUNICIPIO_DESTINO_RUTA</th>\n",
              "      <th>HORA_DESPACHO</th>\n",
              "      <th>TIPO_DESPACHO</th>\n",
              "      <th>DESPACHOS</th>\n",
              "      <th>PASAJEROS</th>\n",
              "      <th>hora</th>\n",
              "      <th>tipo_hora</th>\n",
              "      <th>dia_despacho</th>\n",
              "      <th>mes_despacho</th>\n",
              "      <th>ano_despacho</th>\n",
              "    </tr>\n",
              "  </thead>\n",
              "  <tbody>\n",
              "    <tr>\n",
              "      <th>0</th>\n",
              "      <td>T.T. DE BOGOTÁ NORTE</td>\n",
              "      <td>MICROBUS</td>\n",
              "      <td>LUJO</td>\n",
              "      <td>BOGOTÁ. D.C.</td>\n",
              "      <td>SOGAMOSO</td>\n",
              "      <td>8</td>\n",
              "      <td>TRANSITO</td>\n",
              "      <td>2</td>\n",
              "      <td>0</td>\n",
              "      <td>12:00:00</td>\n",
              "      <td>AM</td>\n",
              "      <td>03</td>\n",
              "      <td>01</td>\n",
              "      <td>2021</td>\n",
              "    </tr>\n",
              "    <tr>\n",
              "      <th>1</th>\n",
              "      <td>T.T. DE BOGOTÁ SALITRE</td>\n",
              "      <td>BUS</td>\n",
              "      <td>LUJO</td>\n",
              "      <td>BOGOTÁ. D.C.</td>\n",
              "      <td>CALI</td>\n",
              "      <td>11</td>\n",
              "      <td>ORIGEN</td>\n",
              "      <td>4</td>\n",
              "      <td>45</td>\n",
              "      <td>12:00:00</td>\n",
              "      <td>AM</td>\n",
              "      <td>03</td>\n",
              "      <td>12</td>\n",
              "      <td>2021</td>\n",
              "    </tr>\n",
              "    <tr>\n",
              "      <th>2</th>\n",
              "      <td>T.T. DE CALI</td>\n",
              "      <td>BUSETA</td>\n",
              "      <td>BASICO</td>\n",
              "      <td>CALI</td>\n",
              "      <td>LA CRUZ</td>\n",
              "      <td>6</td>\n",
              "      <td>ORIGEN</td>\n",
              "      <td>1</td>\n",
              "      <td>3</td>\n",
              "      <td>12:00:00</td>\n",
              "      <td>AM</td>\n",
              "      <td>01</td>\n",
              "      <td>09</td>\n",
              "      <td>2021</td>\n",
              "    </tr>\n",
              "    <tr>\n",
              "      <th>3</th>\n",
              "      <td>T.T. DE MELGAR</td>\n",
              "      <td>BUS</td>\n",
              "      <td>BASICO</td>\n",
              "      <td>IBAGUÉ</td>\n",
              "      <td>BOGOTÁ. D.C.</td>\n",
              "      <td>16</td>\n",
              "      <td>TRANSITO</td>\n",
              "      <td>1</td>\n",
              "      <td>10</td>\n",
              "      <td>12:00:00</td>\n",
              "      <td>AM</td>\n",
              "      <td>08</td>\n",
              "      <td>13</td>\n",
              "      <td>2021</td>\n",
              "    </tr>\n",
              "    <tr>\n",
              "      <th>4</th>\n",
              "      <td>T.T. DE MELGAR</td>\n",
              "      <td>MICROBUS</td>\n",
              "      <td>BASICO</td>\n",
              "      <td>MELGAR</td>\n",
              "      <td>NILO</td>\n",
              "      <td>12</td>\n",
              "      <td>ORIGEN</td>\n",
              "      <td>1</td>\n",
              "      <td>1</td>\n",
              "      <td>12:00:00</td>\n",
              "      <td>AM</td>\n",
              "      <td>02</td>\n",
              "      <td>28</td>\n",
              "      <td>2021</td>\n",
              "    </tr>\n",
              "  </tbody>\n",
              "</table>\n",
              "</div>"
            ],
            "text/plain": [
              "                 TERMINAL CLASE_VEHICULO NIVEL_SERVICIO MUNICIPIO_ORIGEN_RUTA  \\\n",
              "0    T.T. DE BOGOTÁ NORTE       MICROBUS           LUJO          BOGOTÁ. D.C.   \n",
              "1  T.T. DE BOGOTÁ SALITRE            BUS           LUJO          BOGOTÁ. D.C.   \n",
              "2            T.T. DE CALI         BUSETA         BASICO                  CALI   \n",
              "3          T.T. DE MELGAR            BUS         BASICO                IBAGUÉ   \n",
              "4          T.T. DE MELGAR       MICROBUS         BASICO                MELGAR   \n",
              "\n",
              "  MUNICIPIO_DESTINO_RUTA  HORA_DESPACHO TIPO_DESPACHO  DESPACHOS  PASAJEROS  \\\n",
              "0               SOGAMOSO              8      TRANSITO          2          0   \n",
              "1                   CALI             11        ORIGEN          4         45   \n",
              "2                LA CRUZ              6        ORIGEN          1          3   \n",
              "3           BOGOTÁ. D.C.             16      TRANSITO          1         10   \n",
              "4                   NILO             12        ORIGEN          1          1   \n",
              "\n",
              "       hora tipo_hora dia_despacho mes_despacho ano_despacho  \n",
              "0  12:00:00        AM           03           01         2021  \n",
              "1  12:00:00        AM           03           12         2021  \n",
              "2  12:00:00        AM           01           09         2021  \n",
              "3  12:00:00        AM           08           13         2021  \n",
              "4  12:00:00        AM           02           28         2021  "
            ]
          },
          "execution_count": 14,
          "metadata": {},
          "output_type": "execute_result"
        }
      ],
      "source": [
        "datos[['dia_despacho','mes_despacho','ano_despacho']] = datos['fecha'].str.split('/',expand=True)\n",
        "datos.drop(columns=['fecha'],inplace=True)\n",
        "datos.head()"
      ]
    },
    {
      "cell_type": "markdown",
      "metadata": {
        "id": "-aJ-XXlxK5eb"
      },
      "source": [
        "* Convertir las nuevas columnas a enteros"
      ]
    },
    {
      "cell_type": "code",
      "execution_count": 15,
      "metadata": {
        "id": "ZMtuPULBK4wn"
      },
      "outputs": [],
      "source": [
        "datos['dia_despacho'] = datos['dia_despacho'].astype(\"int\")\n",
        "datos['mes_despacho']= datos['mes_despacho'].astype(\"int\")\n",
        "datos['ano_despacho']= datos['ano_despacho'].astype(\"int\")"
      ]
    },
    {
      "cell_type": "markdown",
      "metadata": {
        "id": "qFDKK3uVKNnJ"
      },
      "source": [
        "*Nota:* Dado que todos los buses salen a la misma hora se eliminara las columnas `hora` y `tipo_hora`"
      ]
    },
    {
      "cell_type": "code",
      "execution_count": 16,
      "metadata": {
        "id": "9bESN9N0I33U"
      },
      "outputs": [
        {
          "data": {
            "text/html": [
              "<div>\n",
              "<style scoped>\n",
              "    .dataframe tbody tr th:only-of-type {\n",
              "        vertical-align: middle;\n",
              "    }\n",
              "\n",
              "    .dataframe tbody tr th {\n",
              "        vertical-align: top;\n",
              "    }\n",
              "\n",
              "    .dataframe thead th {\n",
              "        text-align: right;\n",
              "    }\n",
              "</style>\n",
              "<table border=\"1\" class=\"dataframe\">\n",
              "  <thead>\n",
              "    <tr style=\"text-align: right;\">\n",
              "      <th></th>\n",
              "      <th>TERMINAL</th>\n",
              "      <th>CLASE_VEHICULO</th>\n",
              "      <th>NIVEL_SERVICIO</th>\n",
              "      <th>MUNICIPIO_ORIGEN_RUTA</th>\n",
              "      <th>MUNICIPIO_DESTINO_RUTA</th>\n",
              "      <th>HORA_DESPACHO</th>\n",
              "      <th>TIPO_DESPACHO</th>\n",
              "      <th>DESPACHOS</th>\n",
              "      <th>PASAJEROS</th>\n",
              "      <th>dia_despacho</th>\n",
              "      <th>mes_despacho</th>\n",
              "      <th>ano_despacho</th>\n",
              "    </tr>\n",
              "  </thead>\n",
              "  <tbody>\n",
              "    <tr>\n",
              "      <th>0</th>\n",
              "      <td>T.T. DE BOGOTÁ NORTE</td>\n",
              "      <td>MICROBUS</td>\n",
              "      <td>LUJO</td>\n",
              "      <td>BOGOTÁ. D.C.</td>\n",
              "      <td>SOGAMOSO</td>\n",
              "      <td>8</td>\n",
              "      <td>TRANSITO</td>\n",
              "      <td>2</td>\n",
              "      <td>0</td>\n",
              "      <td>3</td>\n",
              "      <td>1</td>\n",
              "      <td>2021</td>\n",
              "    </tr>\n",
              "    <tr>\n",
              "      <th>1</th>\n",
              "      <td>T.T. DE BOGOTÁ SALITRE</td>\n",
              "      <td>BUS</td>\n",
              "      <td>LUJO</td>\n",
              "      <td>BOGOTÁ. D.C.</td>\n",
              "      <td>CALI</td>\n",
              "      <td>11</td>\n",
              "      <td>ORIGEN</td>\n",
              "      <td>4</td>\n",
              "      <td>45</td>\n",
              "      <td>3</td>\n",
              "      <td>12</td>\n",
              "      <td>2021</td>\n",
              "    </tr>\n",
              "    <tr>\n",
              "      <th>2</th>\n",
              "      <td>T.T. DE CALI</td>\n",
              "      <td>BUSETA</td>\n",
              "      <td>BASICO</td>\n",
              "      <td>CALI</td>\n",
              "      <td>LA CRUZ</td>\n",
              "      <td>6</td>\n",
              "      <td>ORIGEN</td>\n",
              "      <td>1</td>\n",
              "      <td>3</td>\n",
              "      <td>1</td>\n",
              "      <td>9</td>\n",
              "      <td>2021</td>\n",
              "    </tr>\n",
              "    <tr>\n",
              "      <th>3</th>\n",
              "      <td>T.T. DE MELGAR</td>\n",
              "      <td>BUS</td>\n",
              "      <td>BASICO</td>\n",
              "      <td>IBAGUÉ</td>\n",
              "      <td>BOGOTÁ. D.C.</td>\n",
              "      <td>16</td>\n",
              "      <td>TRANSITO</td>\n",
              "      <td>1</td>\n",
              "      <td>10</td>\n",
              "      <td>8</td>\n",
              "      <td>13</td>\n",
              "      <td>2021</td>\n",
              "    </tr>\n",
              "    <tr>\n",
              "      <th>4</th>\n",
              "      <td>T.T. DE MELGAR</td>\n",
              "      <td>MICROBUS</td>\n",
              "      <td>BASICO</td>\n",
              "      <td>MELGAR</td>\n",
              "      <td>NILO</td>\n",
              "      <td>12</td>\n",
              "      <td>ORIGEN</td>\n",
              "      <td>1</td>\n",
              "      <td>1</td>\n",
              "      <td>2</td>\n",
              "      <td>28</td>\n",
              "      <td>2021</td>\n",
              "    </tr>\n",
              "  </tbody>\n",
              "</table>\n",
              "</div>"
            ],
            "text/plain": [
              "                 TERMINAL CLASE_VEHICULO NIVEL_SERVICIO MUNICIPIO_ORIGEN_RUTA  \\\n",
              "0    T.T. DE BOGOTÁ NORTE       MICROBUS           LUJO          BOGOTÁ. D.C.   \n",
              "1  T.T. DE BOGOTÁ SALITRE            BUS           LUJO          BOGOTÁ. D.C.   \n",
              "2            T.T. DE CALI         BUSETA         BASICO                  CALI   \n",
              "3          T.T. DE MELGAR            BUS         BASICO                IBAGUÉ   \n",
              "4          T.T. DE MELGAR       MICROBUS         BASICO                MELGAR   \n",
              "\n",
              "  MUNICIPIO_DESTINO_RUTA  HORA_DESPACHO TIPO_DESPACHO  DESPACHOS  PASAJEROS  \\\n",
              "0               SOGAMOSO              8      TRANSITO          2          0   \n",
              "1                   CALI             11        ORIGEN          4         45   \n",
              "2                LA CRUZ              6        ORIGEN          1          3   \n",
              "3           BOGOTÁ. D.C.             16      TRANSITO          1         10   \n",
              "4                   NILO             12        ORIGEN          1          1   \n",
              "\n",
              "   dia_despacho  mes_despacho  ano_despacho  \n",
              "0             3             1          2021  \n",
              "1             3            12          2021  \n",
              "2             1             9          2021  \n",
              "3             8            13          2021  \n",
              "4             2            28          2021  "
            ]
          },
          "execution_count": 16,
          "metadata": {},
          "output_type": "execute_result"
        }
      ],
      "source": [
        "datos.drop(columns=['hora','tipo_hora'],inplace=True)\n",
        "datos.head()"
      ]
    },
    {
      "cell_type": "markdown",
      "metadata": {
        "id": "dU8Uh6by1eFb"
      },
      "source": [
        "**4. Encoding de datos *Categoricos***\n",
        "****\n"
      ]
    },
    {
      "cell_type": "markdown",
      "metadata": {
        "id": "9HBOd_Cc1wJR"
      },
      "source": [
        "* **Deteccion de datos categoricos**: Estos se identificaran bajo el nombre de *Object*"
      ]
    },
    {
      "cell_type": "code",
      "execution_count": 17,
      "metadata": {
        "colab": {
          "base_uri": "https://localhost:8080/"
        },
        "id": "TRgmQ0n41OmU",
        "outputId": "337a5eef-a58b-4de8-9cce-420ed6d25448"
      },
      "outputs": [
        {
          "data": {
            "text/plain": [
              "TERMINAL                  object\n",
              "CLASE_VEHICULO            object\n",
              "NIVEL_SERVICIO            object\n",
              "MUNICIPIO_ORIGEN_RUTA     object\n",
              "MUNICIPIO_DESTINO_RUTA    object\n",
              "HORA_DESPACHO              int64\n",
              "TIPO_DESPACHO             object\n",
              "DESPACHOS                  int64\n",
              "PASAJEROS                  int64\n",
              "dia_despacho               int32\n",
              "mes_despacho               int32\n",
              "ano_despacho               int32\n",
              "dtype: object"
            ]
          },
          "execution_count": 17,
          "metadata": {},
          "output_type": "execute_result"
        }
      ],
      "source": [
        "tipologia_datos=dict(datos.dtypes)\n",
        "datos.dtypes"
      ]
    },
    {
      "cell_type": "markdown",
      "metadata": {
        "id": "mRDwX3Ga2Rsw"
      },
      "source": [
        "* **Encoding de datos Categoricos y creaccion de susrespectivos diccionarios**"
      ]
    },
    {
      "cell_type": "code",
      "execution_count": 18,
      "metadata": {
        "id": "MgmJp36s2D_x"
      },
      "outputs": [],
      "source": [
        "def Transform_Nominal(datos_columna,nombre_col):\n",
        "  datos_col_unicos =datos_columna.unique()\n",
        "  dicc_generico = {v: k for k, v in dict(enumerate(datos_col_unicos)).items()}\n",
        "\n",
        "  #Cambio de categorico a nominal\n",
        "  datos[nombre_col] = [dicc_generico[value] for value in datos_columna]\n",
        "\n",
        "  return dicc_generico\n",
        "\n",
        "\n",
        "\n",
        "\n",
        "def Categorical_Nominal(tipologia:dict):\n",
        "  keys = tipologia.keys()\n",
        "  diccionario_global = {}\n",
        "\n",
        "  #Buscar datos categoricos\n",
        "  for key in keys:\n",
        "    if tipologia[key] == 'O':\n",
        "      #Almacenar variables Categoricas en la lista\n",
        "      list_dicc_col = Transform_Nominal(datos[key],key)\n",
        "      diccionario_global.setdefault(key,list_dicc_col)\n",
        "  return diccionario_global\n"
      ]
    },
    {
      "cell_type": "code",
      "execution_count": 19,
      "metadata": {
        "id": "F8VSWgpmOpuf"
      },
      "outputs": [],
      "source": [
        "dicc_json=Categorical_Nominal(tipologia_datos)"
      ]
    },
    {
      "cell_type": "code",
      "execution_count": 20,
      "metadata": {
        "id": "KyB-lk43O8-O"
      },
      "outputs": [
        {
          "data": {
            "text/plain": [
              "TERMINAL                  int64\n",
              "CLASE_VEHICULO            int64\n",
              "NIVEL_SERVICIO            int64\n",
              "MUNICIPIO_ORIGEN_RUTA     int64\n",
              "MUNICIPIO_DESTINO_RUTA    int64\n",
              "HORA_DESPACHO             int64\n",
              "TIPO_DESPACHO             int64\n",
              "DESPACHOS                 int64\n",
              "PASAJEROS                 int64\n",
              "dia_despacho              int32\n",
              "mes_despacho              int32\n",
              "ano_despacho              int32\n",
              "dtype: object"
            ]
          },
          "execution_count": 20,
          "metadata": {},
          "output_type": "execute_result"
        }
      ],
      "source": [
        "datos.dtypes"
      ]
    },
    {
      "cell_type": "markdown",
      "metadata": {},
      "source": [
        "* Demostracion del estado de los datos"
      ]
    },
    {
      "cell_type": "code",
      "execution_count": 21,
      "metadata": {
        "colab": {
          "base_uri": "https://localhost:8080/",
          "height": 250
        },
        "id": "oEj7U5jQOzbH",
        "outputId": "f6badb79-2e42-472d-c45e-d529074e9660"
      },
      "outputs": [
        {
          "data": {
            "text/html": [
              "<div>\n",
              "<style scoped>\n",
              "    .dataframe tbody tr th:only-of-type {\n",
              "        vertical-align: middle;\n",
              "    }\n",
              "\n",
              "    .dataframe tbody tr th {\n",
              "        vertical-align: top;\n",
              "    }\n",
              "\n",
              "    .dataframe thead th {\n",
              "        text-align: right;\n",
              "    }\n",
              "</style>\n",
              "<table border=\"1\" class=\"dataframe\">\n",
              "  <thead>\n",
              "    <tr style=\"text-align: right;\">\n",
              "      <th></th>\n",
              "      <th>TERMINAL</th>\n",
              "      <th>CLASE_VEHICULO</th>\n",
              "      <th>NIVEL_SERVICIO</th>\n",
              "      <th>MUNICIPIO_ORIGEN_RUTA</th>\n",
              "      <th>MUNICIPIO_DESTINO_RUTA</th>\n",
              "      <th>HORA_DESPACHO</th>\n",
              "      <th>TIPO_DESPACHO</th>\n",
              "      <th>DESPACHOS</th>\n",
              "      <th>PASAJEROS</th>\n",
              "      <th>dia_despacho</th>\n",
              "      <th>mes_despacho</th>\n",
              "      <th>ano_despacho</th>\n",
              "    </tr>\n",
              "  </thead>\n",
              "  <tbody>\n",
              "    <tr>\n",
              "      <th>0</th>\n",
              "      <td>0</td>\n",
              "      <td>0</td>\n",
              "      <td>0</td>\n",
              "      <td>0</td>\n",
              "      <td>0</td>\n",
              "      <td>8</td>\n",
              "      <td>0</td>\n",
              "      <td>2</td>\n",
              "      <td>0</td>\n",
              "      <td>3</td>\n",
              "      <td>1</td>\n",
              "      <td>2021</td>\n",
              "    </tr>\n",
              "    <tr>\n",
              "      <th>1</th>\n",
              "      <td>1</td>\n",
              "      <td>1</td>\n",
              "      <td>0</td>\n",
              "      <td>0</td>\n",
              "      <td>1</td>\n",
              "      <td>11</td>\n",
              "      <td>1</td>\n",
              "      <td>4</td>\n",
              "      <td>45</td>\n",
              "      <td>3</td>\n",
              "      <td>12</td>\n",
              "      <td>2021</td>\n",
              "    </tr>\n",
              "    <tr>\n",
              "      <th>2</th>\n",
              "      <td>2</td>\n",
              "      <td>2</td>\n",
              "      <td>1</td>\n",
              "      <td>1</td>\n",
              "      <td>2</td>\n",
              "      <td>6</td>\n",
              "      <td>1</td>\n",
              "      <td>1</td>\n",
              "      <td>3</td>\n",
              "      <td>1</td>\n",
              "      <td>9</td>\n",
              "      <td>2021</td>\n",
              "    </tr>\n",
              "    <tr>\n",
              "      <th>3</th>\n",
              "      <td>3</td>\n",
              "      <td>1</td>\n",
              "      <td>1</td>\n",
              "      <td>2</td>\n",
              "      <td>3</td>\n",
              "      <td>16</td>\n",
              "      <td>0</td>\n",
              "      <td>1</td>\n",
              "      <td>10</td>\n",
              "      <td>8</td>\n",
              "      <td>13</td>\n",
              "      <td>2021</td>\n",
              "    </tr>\n",
              "    <tr>\n",
              "      <th>4</th>\n",
              "      <td>3</td>\n",
              "      <td>0</td>\n",
              "      <td>1</td>\n",
              "      <td>3</td>\n",
              "      <td>4</td>\n",
              "      <td>12</td>\n",
              "      <td>1</td>\n",
              "      <td>1</td>\n",
              "      <td>1</td>\n",
              "      <td>2</td>\n",
              "      <td>28</td>\n",
              "      <td>2021</td>\n",
              "    </tr>\n",
              "  </tbody>\n",
              "</table>\n",
              "</div>"
            ],
            "text/plain": [
              "   TERMINAL  CLASE_VEHICULO  NIVEL_SERVICIO  MUNICIPIO_ORIGEN_RUTA  \\\n",
              "0         0               0               0                      0   \n",
              "1         1               1               0                      0   \n",
              "2         2               2               1                      1   \n",
              "3         3               1               1                      2   \n",
              "4         3               0               1                      3   \n",
              "\n",
              "   MUNICIPIO_DESTINO_RUTA  HORA_DESPACHO  TIPO_DESPACHO  DESPACHOS  PASAJEROS  \\\n",
              "0                       0              8              0          2          0   \n",
              "1                       1             11              1          4         45   \n",
              "2                       2              6              1          1          3   \n",
              "3                       3             16              0          1         10   \n",
              "4                       4             12              1          1          1   \n",
              "\n",
              "   dia_despacho  mes_despacho  ano_despacho  \n",
              "0             3             1          2021  \n",
              "1             3            12          2021  \n",
              "2             1             9          2021  \n",
              "3             8            13          2021  \n",
              "4             2            28          2021  "
            ]
          },
          "execution_count": 21,
          "metadata": {},
          "output_type": "execute_result"
        }
      ],
      "source": [
        "datos.head()"
      ]
    },
    {
      "cell_type": "markdown",
      "metadata": {},
      "source": [
        "## **Seeccion 3** Creacion del modelo y distribucion de datos\n",
        "*****\n",
        "Para esta seccion dividiremos los datos y crearemos un modelo que con base al *municipio origne*,*municipio destino*, *Tipo vehiculo* y *Clase del vehiculo* \n",
        "prediga *numero pasajeros* y *Duracion del viaje*"
      ]
    },
    {
      "cell_type": "code",
      "execution_count": 22,
      "metadata": {},
      "outputs": [],
      "source": [
        "from sklearn.model_selection import train_test_split\n",
        "import keras as kr\n",
        "import json\n"
      ]
    },
    {
      "cell_type": "markdown",
      "metadata": {},
      "source": [
        "* Datos a predecir\n"
      ]
    },
    {
      "cell_type": "code",
      "execution_count": 25,
      "metadata": {},
      "outputs": [],
      "source": [
        "datos_y = datos[['PASAJEROS','HORA_DESPACHO']]\n",
        "datos.drop(columns=['HORA_DESPACHO','PASAJEROS'],inplace=True)"
      ]
    },
    {
      "cell_type": "markdown",
      "metadata": {},
      "source": [
        "* Datos de entrada"
      ]
    },
    {
      "cell_type": "code",
      "execution_count": 26,
      "metadata": {},
      "outputs": [],
      "source": [
        "datos_x = datos[['MUNICIPIO_ORIGEN_RUTA','MUNICIPIO_DESTINO_RUTA','CLASE_VEHICULO','NIVEL_SERVICIO']]\n",
        "datos.drop(columns=['MUNICIPIO_ORIGEN_RUTA','MUNICIPIO_DESTINO_RUTA','CLASE_VEHICULO','NIVEL_SERVICIO'],inplace=True)"
      ]
    },
    {
      "cell_type": "markdown",
      "metadata": {},
      "source": [
        "* Funcion para dividir los datos"
      ]
    },
    {
      "cell_type": "code",
      "execution_count": 27,
      "metadata": {},
      "outputs": [],
      "source": [
        "x_train,x_test,y_train,y_test =train_test_split(np.array(datos_x),np.array(datos_y))"
      ]
    },
    {
      "cell_type": "markdown",
      "metadata": {},
      "source": [
        "### **2. Creacion del modelo**\n",
        "****"
      ]
    },
    {
      "cell_type": "code",
      "execution_count": 30,
      "metadata": {},
      "outputs": [
        {
          "name": "stdout",
          "output_type": "stream",
          "text": [
            "Model: \"sequential_1\"\n",
            "_________________________________________________________________\n",
            " Layer (type)                Output Shape              Param #   \n",
            "=================================================================\n",
            " dense_4 (Dense)             (None, 16)                80        \n",
            "                                                                 \n",
            " dense_5 (Dense)             (None, 10)                170       \n",
            "                                                                 \n",
            " dense_6 (Dense)             (None, 20)                220       \n",
            "                                                                 \n",
            " dense_7 (Dense)             (None, 2)                 42        \n",
            "                                                                 \n",
            "=================================================================\n",
            "Total params: 512\n",
            "Trainable params: 512\n",
            "Non-trainable params: 0\n",
            "_________________________________________________________________\n"
          ]
        }
      ],
      "source": [
        "modelo = kr.Sequential([kr.layers.Dense(16,input_shape=(4,)),\n",
        "         kr.layers.Dense(10,activation='relu'),\n",
        "         kr.layers.Dense(20,activation='relu'),\n",
        "         kr.layers.Dense(2)\n",
        "        ]) \n",
        "modelo.summary()\n",
        "modelo.compile(loss='mse',optimizer='adam',metrics=['acc'])"
      ]
    },
    {
      "cell_type": "code",
      "execution_count": 32,
      "metadata": {},
      "outputs": [
        {
          "name": "stdout",
          "output_type": "stream",
          "text": [
            "Epoch 1/10\n",
            "12950/12950 [==============================] - 16s 1ms/step - loss: 218.4301 - acc: 0.5835\n",
            "Epoch 2/10\n",
            "12950/12950 [==============================] - 13s 991us/step - loss: 218.1586 - acc: 0.5838\n",
            "Epoch 3/10\n",
            "12950/12950 [==============================] - 15s 1ms/step - loss: 217.6142 - acc: 0.5849\n",
            "Epoch 4/10\n",
            "12950/12950 [==============================] - 18s 1ms/step - loss: 217.0321 - acc: 0.5872\n",
            "Epoch 5/10\n",
            "12950/12950 [==============================] - 17s 1ms/step - loss: 216.7445 - acc: 0.5889\n",
            "Epoch 6/10\n",
            "12950/12950 [==============================] - 14s 1ms/step - loss: 216.4682 - acc: 0.5908\n",
            "Epoch 7/10\n",
            "12950/12950 [==============================] - 16s 1ms/step - loss: 216.1349 - acc: 0.5935\n",
            "Epoch 8/10\n",
            "12950/12950 [==============================] - 16s 1ms/step - loss: 216.0315 - acc: 0.5933\n",
            "Epoch 9/10\n",
            "12950/12950 [==============================] - 16s 1ms/step - loss: 215.8636 - acc: 0.5933\n",
            "Epoch 10/10\n",
            "12950/12950 [==============================] - 15s 1ms/step - loss: 215.8184 - acc: 0.5928\n"
          ]
        },
        {
          "data": {
            "text/plain": [
              "<keras.callbacks.History at 0x20ef23ea1a0>"
            ]
          },
          "execution_count": 32,
          "metadata": {},
          "output_type": "execute_result"
        }
      ],
      "source": [
        "modelo.fit(x_train,y_train,epochs=10,batch_size=642)"
      ]
    },
    {
      "cell_type": "code",
      "execution_count": 49,
      "metadata": {},
      "outputs": [
        {
          "name": "stdout",
          "output_type": "stream",
          "text": [
            "86602/86602 [==============================] - 103s 1ms/step - loss: 240.2151 - acc: 0.5402\n"
          ]
        },
        {
          "data": {
            "text/plain": [
              "[240.21510314941406, 0.5402258634567261]"
            ]
          },
          "execution_count": 49,
          "metadata": {},
          "output_type": "execute_result"
        }
      ],
      "source": [
        "modelo.evaluate(x_test,y_test)"
      ]
    },
    {
      "cell_type": "markdown",
      "metadata": {},
      "source": [
        "**Guardar diccionario de los datos**\n",
        "****"
      ]
    },
    {
      "cell_type": "code",
      "execution_count": 23,
      "metadata": {},
      "outputs": [],
      "source": [
        "json_dict = json.dumps(dicc_json)\n",
        "with open('habilidad_extra/diccionario.json','wb') as file:\n",
        "        file.write(json_dict.encode('utf-8'))"
      ]
    },
    {
      "cell_type": "markdown",
      "metadata": {},
      "source": [
        "**Guardar modelo**\n",
        "****"
      ]
    },
    {
      "cell_type": "code",
      "execution_count": 50,
      "metadata": {},
      "outputs": [],
      "source": [
        "modelo.save(\"modelo_Pinbus.h5\")"
      ]
    },
    {
      "cell_type": "markdown",
      "metadata": {},
      "source": [
        "* Preparar el modelo para js"
      ]
    },
    {
      "cell_type": "code",
      "execution_count": 51,
      "metadata": {},
      "outputs": [],
      "source": [
        "! tensorflowjs_converter --input_format keras modelo_Pinbus.h5 habilidad_extra/modelo_js\n",
        "! DEL modelo_Pinbus.h5\n"
      ]
    }
  ],
  "metadata": {
    "accelerator": "GPU",
    "colab": {
      "gpuType": "T4",
      "provenance": []
    },
    "kernelspec": {
      "display_name": "Python 3",
      "name": "python3"
    },
    "language_info": {
      "codemirror_mode": {
        "name": "ipython",
        "version": 3
      },
      "file_extension": ".py",
      "mimetype": "text/x-python",
      "name": "python",
      "nbconvert_exporter": "python",
      "pygments_lexer": "ipython3",
      "version": "3.10.6"
    }
  },
  "nbformat": 4,
  "nbformat_minor": 0
}
