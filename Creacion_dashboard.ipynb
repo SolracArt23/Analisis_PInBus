{
 "cells": [
  {
   "cell_type": "code",
   "execution_count": 1,
   "metadata": {},
   "outputs": [],
   "source": [
    "import pandas as pd\n",
    "import matplotlib.pyplot as plt\n",
    "import seaborn as sns\n",
    "from PIL import Image\n",
    "import ipywidgets as widgets\n",
    "from IPython.display import clear_output\n",
    "import os\n",
    "\n",
    "#Seccion de API google Sheet\n",
    "from google.oauth2.credentials import Credentials\n",
    "from google.oauth2 import service_account\n",
    "from googleapiclient.discovery import build\n",
    "#Subida de archivo\n",
    "from openpyxl import Workbook\n",
    "from openpyxl.drawing.image import Image"
   ]
  },
  {
   "cell_type": "markdown",
   "metadata": {},
   "source": [
    "## **Seccion 1:** Conexion con la API google Sheet\n",
    "****"
   ]
  },
  {
   "cell_type": "code",
   "execution_count": 2,
   "metadata": {},
   "outputs": [],
   "source": [
    "#informacion basica\n",
    "Scopes = ['https://www.googleapis.com/auth/spreadsheets']\n",
    "key = 'key.json'\n",
    "id_sheet = '1v4w_c-0D8moJFnzxFxrCGN0d7Hyqni8HkgCCTD5e5F4'\n",
    "\n",
    "#conectar\n",
    "creds = None\n",
    "creds = service_account.Credentials.from_service_account_file(key,scopes=Scopes)\n",
    "\n",
    "#Generar API\n",
    "service = build('sheets','v4',credentials=creds)\n",
    "EXCEl = service.spreadsheets()"
   ]
  },
  {
   "cell_type": "code",
   "execution_count": 3,
   "metadata": {},
   "outputs": [
    {
     "data": {
      "text/plain": [
       "['TERMINAL',\n",
       " 'CLASE_VEHICULO',\n",
       " 'NIVEL_SERVICIO',\n",
       " 'MUNICIPIO_ORIGEN_RUTA',\n",
       " 'MUNICIPIO_DESTINO_RUTA',\n",
       " 'HORA_DESPACHO',\n",
       " 'TIPO_DESPACHO',\n",
       " 'DESPACHOS',\n",
       " 'PASAJEROS',\n",
       " 'mes_despacho',\n",
       " 'dia_despacho',\n",
       " 'ano_despacho']"
      ]
     },
     "execution_count": 3,
     "metadata": {},
     "output_type": "execute_result"
    }
   ],
   "source": [
    "res = EXCEl.values().get(spreadsheetId=id_sheet,range='main_tables!A1:l370000').execute()\n",
    "\n",
    "res.get('values',[])[0]"
   ]
  },
  {
   "cell_type": "markdown",
   "metadata": {},
   "source": [
    "## **Seccion 2:** Cargue de los datos presentes en google sheet\n",
    "****"
   ]
  },
  {
   "cell_type": "code",
   "execution_count": 4,
   "metadata": {},
   "outputs": [
    {
     "data": {
      "text/html": [
       "<div>\n",
       "<style scoped>\n",
       "    .dataframe tbody tr th:only-of-type {\n",
       "        vertical-align: middle;\n",
       "    }\n",
       "\n",
       "    .dataframe tbody tr th {\n",
       "        vertical-align: top;\n",
       "    }\n",
       "\n",
       "    .dataframe thead th {\n",
       "        text-align: right;\n",
       "    }\n",
       "</style>\n",
       "<table border=\"1\" class=\"dataframe\">\n",
       "  <thead>\n",
       "    <tr style=\"text-align: right;\">\n",
       "      <th></th>\n",
       "      <th>TERMINAL</th>\n",
       "      <th>CLASE_VEHICULO</th>\n",
       "      <th>NIVEL_SERVICIO</th>\n",
       "      <th>MUNICIPIO_ORIGEN_RUTA</th>\n",
       "      <th>MUNICIPIO_DESTINO_RUTA</th>\n",
       "      <th>HORA_DESPACHO</th>\n",
       "      <th>TIPO_DESPACHO</th>\n",
       "      <th>DESPACHOS</th>\n",
       "      <th>PASAJEROS</th>\n",
       "      <th>mes_despacho</th>\n",
       "      <th>dia_despacho</th>\n",
       "      <th>ano_despacho</th>\n",
       "    </tr>\n",
       "  </thead>\n",
       "  <tbody>\n",
       "    <tr>\n",
       "      <th>0</th>\n",
       "      <td>T.T. DE BOGOTA SALITRE</td>\n",
       "      <td>BUS</td>\n",
       "      <td>LUJO</td>\n",
       "      <td>BOGOTA. D.C.</td>\n",
       "      <td>CALI</td>\n",
       "      <td>11</td>\n",
       "      <td>ORIGEN</td>\n",
       "      <td>4</td>\n",
       "      <td>45</td>\n",
       "      <td>3</td>\n",
       "      <td>12</td>\n",
       "      <td>2021</td>\n",
       "    </tr>\n",
       "    <tr>\n",
       "      <th>1</th>\n",
       "      <td>T.T. DE CALI</td>\n",
       "      <td>BUSETA</td>\n",
       "      <td>BASICO</td>\n",
       "      <td>CALI</td>\n",
       "      <td>LA CRUZ</td>\n",
       "      <td>6</td>\n",
       "      <td>ORIGEN</td>\n",
       "      <td>1</td>\n",
       "      <td>3</td>\n",
       "      <td>1</td>\n",
       "      <td>9</td>\n",
       "      <td>2021</td>\n",
       "    </tr>\n",
       "    <tr>\n",
       "      <th>2</th>\n",
       "      <td>T.T. DE MELGAR</td>\n",
       "      <td>BUS</td>\n",
       "      <td>BASICO</td>\n",
       "      <td>IBAGUE</td>\n",
       "      <td>BOGOTA. D.C.</td>\n",
       "      <td>16</td>\n",
       "      <td>TRANSITO</td>\n",
       "      <td>1</td>\n",
       "      <td>10</td>\n",
       "      <td>8</td>\n",
       "      <td>13</td>\n",
       "      <td>2021</td>\n",
       "    </tr>\n",
       "    <tr>\n",
       "      <th>3</th>\n",
       "      <td>T.T. DE MELGAR</td>\n",
       "      <td>MICROBUS</td>\n",
       "      <td>BASICO</td>\n",
       "      <td>MELGAR</td>\n",
       "      <td>NILO</td>\n",
       "      <td>12</td>\n",
       "      <td>ORIGEN</td>\n",
       "      <td>1</td>\n",
       "      <td>1</td>\n",
       "      <td>2</td>\n",
       "      <td>28</td>\n",
       "      <td>2021</td>\n",
       "    </tr>\n",
       "    <tr>\n",
       "      <th>4</th>\n",
       "      <td>T.T. DE BOGOTA NORTE</td>\n",
       "      <td>BUS</td>\n",
       "      <td>LUJO</td>\n",
       "      <td>BOGOTA. D.C.</td>\n",
       "      <td>CARTAGENA DE INDIAS</td>\n",
       "      <td>12</td>\n",
       "      <td>TRANSITO</td>\n",
       "      <td>1</td>\n",
       "      <td>0</td>\n",
       "      <td>8</td>\n",
       "      <td>16</td>\n",
       "      <td>2021</td>\n",
       "    </tr>\n",
       "  </tbody>\n",
       "</table>\n",
       "</div>"
      ],
      "text/plain": [
       "                 TERMINAL CLASE_VEHICULO NIVEL_SERVICIO MUNICIPIO_ORIGEN_RUTA  \\\n",
       "0  T.T. DE BOGOTA SALITRE            BUS           LUJO          BOGOTA. D.C.   \n",
       "1            T.T. DE CALI         BUSETA         BASICO                  CALI   \n",
       "2          T.T. DE MELGAR            BUS         BASICO                IBAGUE   \n",
       "3          T.T. DE MELGAR       MICROBUS         BASICO                MELGAR   \n",
       "4    T.T. DE BOGOTA NORTE            BUS           LUJO          BOGOTA. D.C.   \n",
       "\n",
       "  MUNICIPIO_DESTINO_RUTA HORA_DESPACHO TIPO_DESPACHO DESPACHOS PASAJEROS  \\\n",
       "0                   CALI            11        ORIGEN         4        45   \n",
       "1                LA CRUZ             6        ORIGEN         1         3   \n",
       "2           BOGOTA. D.C.            16      TRANSITO         1        10   \n",
       "3                   NILO            12        ORIGEN         1         1   \n",
       "4    CARTAGENA DE INDIAS            12      TRANSITO         1         0   \n",
       "\n",
       "  mes_despacho dia_despacho ano_despacho  \n",
       "0            3           12         2021  \n",
       "1            1            9         2021  \n",
       "2            8           13         2021  \n",
       "3            2           28         2021  \n",
       "4            8           16         2021  "
      ]
     },
     "execution_count": 4,
     "metadata": {},
     "output_type": "execute_result"
    }
   ],
   "source": [
    "datos =pd.DataFrame(res.get('values',[])[1:],columns=res.get('values',[])[0])\n",
    "datos.head()"
   ]
  },
  {
   "cell_type": "markdown",
   "metadata": {},
   "source": [
    "## **Seccion 3**: Analisis de los datos\n",
    "***\n",
    "En esta seccion analizaremos los datos presentes en el google sheet e intentaremos responder algunas cuestiones como:\n",
    " "
   ]
  },
  {
   "cell_type": "markdown",
   "metadata": {},
   "source": [
    "### **Seccion 3.0**:filtros\n",
    "****"
   ]
  },
  {
   "cell_type": "code",
   "execution_count": 5,
   "metadata": {},
   "outputs": [],
   "source": [
    "#filtro de municipio de origen\n",
    "Municipios_origen=widgets.TagsInput(value=['CALI'],allowed_tags=list(datos['MUNICIPIO_ORIGEN_RUTA'].unique()),allow_duplicates=False)\n",
    "\n",
    "mes_despacho = widgets.TagsInput(\n",
    "    value=[str(x) for x in range(1, 13)],\n",
    "    allowed_tags=[str(x) for x in range(1, 13)],\n",
    "    allow_duplicates=False,\n",
    "    description='Mes Despacho:',\n",
    ")\n",
    "year = widgets.IntRangeSlider(value=[datos['ano_despacho'].unique().min(),datos['ano_despacho'].unique().max()],min=datos['ano_despacho'].unique().min(),max=datos['ano_despacho'].unique().max())\n",
    "\n",
    "clase_vehiculo=widgets.TagsInput(value=list(datos['CLASE_VEHICULO'].unique()),allowed_tags=list(datos['CLASE_VEHICULO'].unique()),allow_duplicates=False)\n",
    "\n"
   ]
  },
  {
   "cell_type": "markdown",
   "metadata": {},
   "source": [
    "### **Seccion 3.1**: Tendencia de los viajes en carretera\n",
    "***"
   ]
  },
  {
   "cell_type": "code",
   "execution_count": 6,
   "metadata": {},
   "outputs": [
    {
     "data": {
      "application/vnd.jupyter.widget-view+json": {
       "model_id": "58ea4b9dad28492fa25640d7d3e7cc14",
       "version_major": 2,
       "version_minor": 0
      },
      "text/plain": [
       "interactive(children=(TagsInput(value=['CALI'], allow_duplicates=False, allowed_tags=['BOGOTA. D.C.', 'CALI', …"
      ]
     },
     "execution_count": 6,
     "metadata": {},
     "output_type": "execute_result"
    }
   ],
   "source": [
    " def Tendencia_viajes(municipios,mes,year,clase_vehi):\n",
    "    #creacion del filtro\n",
    "    datos_filtrados=datos.loc[(datos['MUNICIPIO_ORIGEN_RUTA'].isin(municipios)) & (datos['CLASE_VEHICULO'].isin(clase_vehi)) &(datos['mes_despacho'].isin(mes))  &(datos['ano_despacho'].between(str(year[0]),str(year[-1])))].groupby('MUNICIPIO_DESTINO_RUTA')['MUNICIPIO_DESTINO_RUTA'].count()\n",
    "    #extraccion de porcentajes\n",
    "    datos_filtrados = datos_filtrados/100\n",
    "    # las 10 mejores rutas\n",
    "    top_10 = datos_filtrados.nlargest(10)\n",
    "\n",
    "    #limieza de pantalla\n",
    "    clear_output(wait=True)\n",
    "\n",
    "\n",
    "    print(f\"Desviacion estandar: {top_10.std():.2f}\")\n",
    "    plt.figure(figsize=(20, 5))\n",
    "    sns.lineplot(top_10,x='MUNICIPIO_DESTINO_RUTA',y=top_10,marker='o', markersize=8)\n",
    "    \n",
    "    for y,x in zip(top_10,top_10.keys()):\n",
    "      plt.text(x,y,f'{y-top_10.std():.2f}%',ha='center',va='bottom',fontsize=10)\n",
    "\n",
    "    plt.xlabel('Municipio Destino')\n",
    "    plt.ylabel('Porcentaje')\n",
    "    plt.title(f'Histograma para Municipio de origen: {\", \".join(municipios)}')\n",
    "    plt.grid(True)\n",
    "\n",
    "    \n",
    "    #Guardar grafico\n",
    "    ruta = f'Img_analisis/Tendencia_viaje.png'\n",
    "    plt.savefig(ruta)\n",
    "\n",
    "    plt.show()\n",
    "\n",
    "\n",
    "#preparar conexion\n",
    "widgets.interactive(Tendencia_viajes,municipios=Municipios_origen,mes=mes_despacho,year=year,clase_vehi=clase_vehiculo)"
   ]
  },
  {
   "cell_type": "markdown",
   "metadata": {},
   "source": [
    "### **Seccion 3.2**: Porcentaje de vehiculos presentes en el municipio de destino\n",
    "****"
   ]
  },
  {
   "cell_type": "code",
   "execution_count": 7,
   "metadata": {},
   "outputs": [
    {
     "data": {
      "application/vnd.jupyter.widget-view+json": {
       "model_id": "d552dddef03541e191e79636a62cf8a5",
       "version_major": 2,
       "version_minor": 0
      },
      "text/plain": [
       "interactive(children=(TagsInput(value=['CALI'], allow_duplicates=False, allowed_tags=['BOGOTA. D.C.', 'CALI', …"
      ]
     },
     "execution_count": 7,
     "metadata": {},
     "output_type": "execute_result"
    }
   ],
   "source": [
    "def Vehiculos_municipio(municipios,mes,year,clase_vehi):\n",
    "    # Sacar filtro\n",
    "    datos_filtrados_vehi = datos.loc[(datos['MUNICIPIO_ORIGEN_RUTA'].isin(municipios)) & (datos['CLASE_VEHICULO'].isin(clase_vehi)) &(datos['mes_despacho'].isin(mes))  &(datos['ano_despacho'].between(str(year[0]),str(year[-1])))]\n",
    "    datos_filtrados = datos.loc[(datos['MUNICIPIO_ORIGEN_RUTA'].isin(municipios)) & (datos['CLASE_VEHICULO'].isin(clase_vehi)) &(datos['mes_despacho'].isin(mes))  &(datos['ano_despacho'].between(str(year[0]),str(year[-1])))].groupby('MUNICIPIO_DESTINO_RUTA')['MUNICIPIO_DESTINO_RUTA'].count()\n",
    "\n",
    "    # las 10 mejores rutas\n",
    "    datos_filtrados_vehi = datos_filtrados_vehi.pivot_table(index='MUNICIPIO_DESTINO_RUTA', columns='CLASE_VEHICULO', aggfunc='size', fill_value=0)\n",
    "    top_10 = datos_filtrados.nlargest(10)\n",
    "    top_10_vehi = datos_filtrados_vehi.sort_values(by=clase_vehi[0], ascending=False)[:10]\n",
    "    \n",
    "\n",
    "    print(\"Valores de la desviacion estandar\")\n",
    "    print(pd.DataFrame(top_10_vehi).std() / len(top_10_vehi))\n",
    "    clear_output(wait=True)\n",
    "\n",
    "    # Creacion de grafica\n",
    "    plt.figure(figsize=(20, 5))\n",
    "    for column in clase_vehi:\n",
    "        if column in top_10_vehi:\n",
    "            plt.bar(top_10.keys(), top_10_vehi[column],label=column)\n",
    "\n",
    "    plt.legend()\n",
    "    plt.xlabel('Municipio Destino')\n",
    "    plt.ylabel('Porcentaje')\n",
    "    plt.title(f'Numero de vehiculos que salieron de - {\", \".join(municipios)}-')\n",
    "    plt.grid(True)\n",
    "    \n",
    "    #Guardar grafico\n",
    "    ruta = f'Img_analisis/Vehiculos_municipio_des.png'\n",
    "    plt.savefig(ruta)\n",
    "\n",
    "    plt.show()\n",
    "\n",
    "\n",
    "\n",
    "#mostrar datos\n",
    "widgets.interactive(Vehiculos_municipio,municipios=Municipios_origen,mes=mes_despacho,year=year,clase_vehi=clase_vehiculo)"
   ]
  },
  {
   "cell_type": "markdown",
   "metadata": {},
   "source": [
    "### **Seccio 3.3:** Estimacion hora-destino\n",
    "****"
   ]
  },
  {
   "cell_type": "code",
   "execution_count": 8,
   "metadata": {},
   "outputs": [
    {
     "data": {
      "application/vnd.jupyter.widget-view+json": {
       "model_id": "d63cb4e44e9a4316a167a8bfd8608626",
       "version_major": 2,
       "version_minor": 0
      },
      "text/plain": [
       "interactive(children=(TagsInput(value=['CALI'], allow_duplicates=False, allowed_tags=['BOGOTA. D.C.', 'CALI', …"
      ]
     },
     "execution_count": 8,
     "metadata": {},
     "output_type": "execute_result"
    }
   ],
   "source": [
    "def Hora_destino(municipios,mes,year,clase_vehi):\n",
    "    #Crear filtro\n",
    "    datos_filtrados=datos.loc[(datos['MUNICIPIO_ORIGEN_RUTA'].isin(municipios)) & (datos['CLASE_VEHICULO'].isin(clase_vehi)) &(datos['mes_despacho'].isin(mes))  &(datos['ano_despacho'].between(str(year[0]),str(year[-1])))].groupby('MUNICIPIO_DESTINO_RUTA')['HORA_DESPACHO'].std()\n",
    "    \n",
    "    top_10 = datos_filtrados.nlargest(10)\n",
    "\n",
    "\n",
    "    print(f\"Desviacion estandar: {top_10.std():.2f}\")\n",
    "    plt.figure(figsize=(20, 5))\n",
    "    sns.lineplot(top_10,x='MUNICIPIO_DESTINO_RUTA',y=top_10,marker='o', markersize=8)\n",
    "    \n",
    "    for y,x in zip(top_10,top_10.keys()):\n",
    "      plt.text(x,y,f'{y-top_10.std():.1f} horas',ha='center',va='bottom',fontsize=10)\n",
    "\n",
    "    plt.xlabel('Municipio Destino')\n",
    "    plt.ylabel(\"Estimacion de tiempo de llegada\")\n",
    "    plt.title(f' Promedio de duracion del viaje dado que saliste de  -{\", \".join(municipios)}-')\n",
    "    plt.grid(True)\n",
    "    \n",
    "    #Guardar grafico\n",
    "    ruta = f'Img_analisis/Hora_des.png'\n",
    "    plt.savefig(ruta)\n",
    "    plt.show()\n",
    "\n",
    "widgets.interactive(Hora_destino,municipios=Municipios_origen,mes=mes_despacho,year=year,clase_vehi=clase_vehiculo)\n",
    "    "
   ]
  },
  {
   "cell_type": "markdown",
   "metadata": {},
   "source": [
    "### **Seccion 3.4:** Distribucion de personas por terminal\n",
    "****"
   ]
  },
  {
   "cell_type": "code",
   "execution_count": 9,
   "metadata": {},
   "outputs": [
    {
     "data": {
      "application/vnd.jupyter.widget-view+json": {
       "model_id": "e2253288c14d494dadd8b1e6d30fa117",
       "version_major": 2,
       "version_minor": 0
      },
      "text/plain": [
       "interactive(children=(TagsInput(value=['CALI'], allow_duplicates=False, allowed_tags=['BOGOTA. D.C.', 'CALI', …"
      ]
     },
     "execution_count": 9,
     "metadata": {},
     "output_type": "execute_result"
    }
   ],
   "source": [
    "def Dist_Terminal(municipios,mes,year,clase_vehi):\n",
    "    #Crear filtro\n",
    "    datos_filtrados=datos.loc[(datos['TIPO_DESPACHO'].isin(['ORIGEN']))&(datos['MUNICIPIO_ORIGEN_RUTA'].isin(municipios)) & (datos['CLASE_VEHICULO'].isin(clase_vehi)) &(datos['mes_despacho'].isin(mes))  &(datos['ano_despacho'].between(str(year[0]),str(year[-1])))].groupby('TERMINAL')['PASAJEROS'].count()\n",
    "\n",
    "    top_10 = datos_filtrados.nlargest(10)\n",
    "    clear_output(wait=True)\n",
    "    print(top_10)\n",
    "    plt.figure(figsize=(20, 5))\n",
    "    plt.bar(top_10.keys(),top_10)\n",
    "    plt.title(f' Numero de personas presentes en los reminales del municipio de: -{\", \".join(municipios)}-')\n",
    "    plt.xlabel(\"Terminales\")\n",
    "    plt.ylabel(\"Cantidad de personas\")\n",
    "\n",
    "    #Guardar grafico\n",
    "    ruta = f'Img_analisis/Dis_terminal.png'\n",
    "    plt.savefig(ruta)\n",
    "    plt.show()\n",
    "\n",
    "    \n",
    "widgets.interactive(Dist_Terminal,municipios=Municipios_origen,mes=mes_despacho,year=year,clase_vehi=clase_vehiculo)"
   ]
  },
  {
   "cell_type": "markdown",
   "metadata": {},
   "source": [
    "### **Seccion 3.5:** Numero de vehiculos que salieron del terminal segun su municipio de origen\n",
    "***"
   ]
  },
  {
   "cell_type": "code",
   "execution_count": 10,
   "metadata": {},
   "outputs": [
    {
     "data": {
      "application/vnd.jupyter.widget-view+json": {
       "model_id": "c06c1fac55314804970c70ec4465695e",
       "version_major": 2,
       "version_minor": 0
      },
      "text/plain": [
       "interactive(children=(TagsInput(value=['CALI'], allow_duplicates=False, allowed_tags=['BOGOTA. D.C.', 'CALI', …"
      ]
     },
     "execution_count": 10,
     "metadata": {},
     "output_type": "execute_result"
    }
   ],
   "source": [
    "def Vehi_ter(municipios,mes,year,clase_vehi):\n",
    "        # Sacar filtro\n",
    "    datos_filtrados_vehi = datos.loc[(datos['MUNICIPIO_ORIGEN_RUTA'].isin(municipios)) & (datos['CLASE_VEHICULO'].isin(clase_vehi)) &(datos['mes_despacho'].isin(mes))  &(datos['ano_despacho'].between(str(year[0]),str(year[-1])))]\n",
    "    datos_filtrados = datos.loc[(datos['MUNICIPIO_ORIGEN_RUTA'].isin(municipios)) & (datos['CLASE_VEHICULO'].isin(clase_vehi)) &(datos['mes_despacho'].isin(mes))  &(datos['ano_despacho'].between(str(year[0]),str(year[-1])))].groupby('TERMINAL')['PASAJEROS'].count()\n",
    "\n",
    "    # las 10 mejores rutas\n",
    "    datos_filtrados_vehi = datos_filtrados_vehi.pivot_table(index='TERMINAL', columns='CLASE_VEHICULO', aggfunc='size', fill_value=0)\n",
    "    top_10 = datos_filtrados.nlargest(10)\n",
    "    top_10_vehi = datos_filtrados_vehi.sort_values(by=clase_vehi[0], ascending=False)[:10]\n",
    "    \n",
    "\n",
    "    print(\"Valores de la desviacion estandar\")\n",
    "    print(pd.DataFrame(top_10_vehi).std() / len(top_10_vehi))\n",
    "    clear_output(wait=True)\n",
    "\n",
    "\n",
    "    # Creacion de grafica\n",
    "    plt.figure(figsize=(25, 5))\n",
    "    for column in clase_vehi:\n",
    "        if column in top_10_vehi:\n",
    "            plt.bar(top_10.keys(), top_10_vehi[column], label=column)\n",
    "\n",
    "    plt.legend()\n",
    "    plt.xlabel('Terminal de origen')\n",
    "    plt.ylabel('Cantidad')\n",
    "    plt.title(f'Numero de vehiculos que salen \\nde la terminal de origen en el municipio: {\", \".join(municipios)}')\n",
    "    plt.grid(True)\n",
    "\n",
    "    #Guardar grafico\n",
    "    ruta = f'Img_analisis/Salida_terminal.png'\n",
    "    plt.savefig(ruta)\n",
    "    plt.show()\n",
    "\n",
    "\n",
    "widgets.interactive(Vehi_ter,municipios=Municipios_origen,mes=mes_despacho,year=year,clase_vehi=clase_vehiculo)"
   ]
  },
  {
   "cell_type": "markdown",
   "metadata": {},
   "source": [
    "## **Seccion 4:** Subir los graficos a google sheet\n",
    "***"
   ]
  },
  {
   "cell_type": "code",
   "execution_count": null,
   "metadata": {},
   "outputs": [],
   "source": [
    "\n",
    "# Ruta local a la imagen\n",
    "for path ,_,files in os.walk('Img_analisis'):\n",
    "    for file in files:\n",
    "        ruta_imagen = f'{path}/{file}'\n",
    "        print(file[:-4])\n"
   ]
  },
  {
   "cell_type": "code",
   "execution_count": null,
   "metadata": {},
   "outputs": [],
   "source": [
    "import os\n",
    "from openpyxl import Workbook\n",
    "from openpyxl.drawing.image import Image\n",
    "\n",
    "# Ruta del directorio que contiene las imágenes\n",
    "directorio_imagenes = 'Img_analisis'\n",
    "\n",
    "# Crear un nuevo libro de Excel\n",
    "libro_excel = Workbook()\n",
    "\n",
    "# Recorrer todas las imágenes en el directorio\n",
    "for path, _, files in os.walk(directorio_imagenes):\n",
    "    for file in files:\n",
    "        ruta_imagen = os.path.join(path, file)\n",
    "\n",
    "        # Crea una nueva hoja en el libro de Excel\n",
    "        nombre_nueva_hoja = file[:-4]\n",
    "        hoja_nueva = libro_excel.create_sheet(title=nombre_nueva_hoja)\n",
    "\n",
    "        # Insertar la imagen en una celda específica (por ejemplo, celda B2)\n",
    "        imagen = Image(ruta_imagen)\n",
    "        hoja_nueva.add_image(imagen, 'B2')\n",
    "\n",
    "# Guardar el libro de Excel con las imágenes\n",
    "ruta_libro_excel = 'Content\\Graficos.xlsx'\n",
    "libro_excel.save(ruta_libro_excel)\n",
    "\n",
    "\n",
    "print(f'Imágenes insertadas en \"{ruta_libro_excel}\" correctamente.')\n"
   ]
  }
 ],
 "metadata": {
  "kernelspec": {
   "display_name": "Pinbus",
   "language": "python",
   "name": "python3"
  },
  "language_info": {
   "codemirror_mode": {
    "name": "ipython",
    "version": 3
   },
   "file_extension": ".py",
   "mimetype": "text/x-python",
   "name": "python",
   "nbconvert_exporter": "python",
   "pygments_lexer": "ipython3",
   "version": "3.10.6"
  },
  "orig_nbformat": 4
 },
 "nbformat": 4,
 "nbformat_minor": 2
}
