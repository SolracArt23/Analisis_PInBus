{
 "cells": [
  {
   "cell_type": "code",
   "execution_count": null,
   "metadata": {},
   "outputs": [],
   "source": [
    "import pandas as pd\n",
    "import matplotlib.pyplot as plt\n",
    "import seaborn as sns\n",
    "from PIL import Image\n",
    "import ipywidgets as widgets\n",
    "from IPython.display import clear_output\n",
    "import os\n",
    "\n",
    "#Seccion de API google Sheet\n",
    "from google.oauth2.credentials import Credentials\n",
    "from google.oauth2 import service_account\n",
    "from googleapiclient.discovery import build\n",
    "#Subida de archivo\n",
    "from openpyxl import Workbook\n",
    "from openpyxl.drawing.image import Image"
   ]
  },
  {
   "cell_type": "markdown",
   "metadata": {},
   "source": [
    "## **Seccion 1:** Conexion con la API google Sheet\n",
    "****"
   ]
  },
  {
   "cell_type": "code",
   "execution_count": null,
   "metadata": {},
   "outputs": [],
   "source": [
    "#informacion basica\n",
    "Scopes = ['https://www.googleapis.com/auth/spreadsheets']\n",
    "key = 'key.json'\n",
    "id_sheet = '1v4w_c-0D8moJFnzxFxrCGN0d7Hyqni8HkgCCTD5e5F4'\n",
    "\n",
    "#conectar\n",
    "creds = None\n",
    "creds = service_account.Credentials.from_service_account_file(key,scopes=Scopes)\n",
    "\n",
    "#Generar API\n",
    "service = build('sheets','v4',credentials=creds)\n",
    "EXCEl = service.spreadsheets()"
   ]
  },
  {
   "cell_type": "code",
   "execution_count": null,
   "metadata": {},
   "outputs": [],
   "source": [
    "res = EXCEl.values().get(spreadsheetId=id_sheet,range='main_tables!A1:l370000').execute()\n",
    "\n",
    "res.get('values',[])[0]"
   ]
  },
  {
   "cell_type": "markdown",
   "metadata": {},
   "source": [
    "## **Seccion 2:** Cargue de los datos presentes en google sheet\n",
    "****"
   ]
  },
  {
   "cell_type": "code",
   "execution_count": null,
   "metadata": {},
   "outputs": [],
   "source": [
    "datos =pd.DataFrame(res.get('values',[])[1:],columns=res.get('values',[])[0])\n",
    "datos.head()"
   ]
  },
  {
   "cell_type": "markdown",
   "metadata": {},
   "source": [
    "## **Seccion 3**: Analisis de los datos\n",
    "***\n",
    "En esta seccion analizaremos los datos presentes en el google sheet e intentaremos responder algunas cuestiones como:\n",
    " "
   ]
  },
  {
   "cell_type": "markdown",
   "metadata": {},
   "source": [
    "### **Seccion 3.0**:filtros\n",
    "****"
   ]
  },
  {
   "cell_type": "code",
   "execution_count": null,
   "metadata": {},
   "outputs": [],
   "source": [
    "#filtro de municipio de origen\n",
    "Municipios_origen=widgets.TagsInput(value=['CALI'],allowed_tags=list(datos['MUNICIPIO_ORIGEN_RUTA'].unique()),allow_duplicates=False)\n",
    "\n",
    "mes_despacho = widgets.TagsInput(\n",
    "    value=[str(x) for x in range(1, 13)],\n",
    "    allowed_tags=[str(x) for x in range(1, 13)],\n",
    "    allow_duplicates=False,\n",
    "    description='Mes Despacho:',\n",
    ")\n",
    "year = widgets.IntRangeSlider(value=[datos['ano_despacho'].unique().min(),datos['ano_despacho'].unique().max()],min=datos['ano_despacho'].unique().min(),max=datos['ano_despacho'].unique().max())\n",
    "\n",
    "clase_vehiculo=widgets.TagsInput(value=list(datos['CLASE_VEHICULO'].unique()),allowed_tags=list(datos['CLASE_VEHICULO'].unique()),allow_duplicates=False)\n",
    "\n"
   ]
  },
  {
   "cell_type": "markdown",
   "metadata": {},
   "source": [
    "### **Seccion 3.1**: Tendencia de los viajes en carretera\n",
    "***"
   ]
  },
  {
   "cell_type": "code",
   "execution_count": null,
   "metadata": {},
   "outputs": [],
   "source": [
    " def Tendencia_viajes(municipios,mes,year,clase_vehi):\n",
    "    #creacion del filtro\n",
    "    datos_filtrados=datos.loc[(datos['MUNICIPIO_ORIGEN_RUTA'].isin(municipios)) & (datos['CLASE_VEHICULO'].isin(clase_vehi)) &(datos['mes_despacho'].isin(mes))  &(datos['ano_despacho'].between(str(year[0]),str(year[-1])))].groupby('MUNICIPIO_DESTINO_RUTA')['MUNICIPIO_DESTINO_RUTA'].count()\n",
    "    #extraccion de porcentajes\n",
    "    datos_filtrados = datos_filtrados/100\n",
    "    # las 10 mejores rutas\n",
    "    top_10 = datos_filtrados.nlargest(10)\n",
    "\n",
    "    #limieza de pantalla\n",
    "    clear_output(wait=True)\n",
    "\n",
    "\n",
    "    print(f\"Desviacion estandar: {top_10.std():.2f}\")\n",
    "    plt.figure(figsize=(20, 5))\n",
    "    sns.lineplot(top_10,x='MUNICIPIO_DESTINO_RUTA',y=top_10,marker='o', markersize=8)\n",
    "    \n",
    "    for y,x in zip(top_10,top_10.keys()):\n",
    "      plt.text(x,y,f'{y-top_10.std():.2f}%',ha='center',va='bottom',fontsize=10)\n",
    "\n",
    "    plt.xlabel('Municipio Destino')\n",
    "    plt.ylabel('Porcentaje')\n",
    "    plt.title(f'Histograma para Municipio de origen: {\", \".join(municipios)}')\n",
    "    plt.grid(True)\n",
    "\n",
    "    \n",
    "    #Guardar grafico\n",
    "    ruta = f'Img_analisis/Tendencia_viaje.png'\n",
    "    plt.savefig(ruta)\n",
    "\n",
    "    plt.show()\n",
    "\n",
    "\n",
    "#preparar conexion\n",
    "widgets.interactive(Tendencia_viajes,municipios=Municipios_origen,mes=mes_despacho,year=year,clase_vehi=clase_vehiculo)"
   ]
  },
  {
   "cell_type": "markdown",
   "metadata": {},
   "source": [
    "### **Seccion 3.2**: Porcentaje de vehiculos presentes en el municipio de destino\n",
    "****"
   ]
  },
  {
   "cell_type": "code",
   "execution_count": null,
   "metadata": {},
   "outputs": [],
   "source": [
    "def Vehiculos_municipio(municipios,mes,year,clase_vehi):\n",
    "    # Sacar filtro\n",
    "    datos_filtrados_vehi = datos.loc[(datos['MUNICIPIO_ORIGEN_RUTA'].isin(municipios)) & (datos['CLASE_VEHICULO'].isin(clase_vehi)) &(datos['mes_despacho'].isin(mes))  &(datos['ano_despacho'].between(str(year[0]),str(year[-1])))]\n",
    "    datos_filtrados = datos.loc[(datos['MUNICIPIO_ORIGEN_RUTA'].isin(municipios)) & (datos['CLASE_VEHICULO'].isin(clase_vehi)) &(datos['mes_despacho'].isin(mes))  &(datos['ano_despacho'].between(str(year[0]),str(year[-1])))].groupby('MUNICIPIO_DESTINO_RUTA')['MUNICIPIO_DESTINO_RUTA'].count()\n",
    "\n",
    "    # las 10 mejores rutas\n",
    "    datos_filtrados_vehi = datos_filtrados_vehi.pivot_table(index='MUNICIPIO_DESTINO_RUTA', columns='CLASE_VEHICULO', aggfunc='size', fill_value=0)\n",
    "    top_10 = datos_filtrados.nlargest(10)\n",
    "    top_10_vehi = datos_filtrados_vehi.sort_values(by=clase_vehi[0], ascending=False)[:10]\n",
    "    \n",
    "\n",
    "    print(\"Valores de la desviacion estandar\")\n",
    "    print(pd.DataFrame(top_10_vehi).std() / len(top_10_vehi))\n",
    "    clear_output(wait=True)\n",
    "\n",
    "    # Creacion de grafica\n",
    "    plt.figure(figsize=(20, 5))\n",
    "    for column in clase_vehi:\n",
    "        if column in top_10_vehi:\n",
    "            plt.bar(top_10.keys(), top_10_vehi[column],label=column)\n",
    "\n",
    "    plt.legend()\n",
    "    plt.xlabel('Municipio Destino')\n",
    "    plt.ylabel('Porcentaje')\n",
    "    plt.title(f'Numero de vehiculos que salieron de - {\", \".join(municipios)}-')\n",
    "    plt.grid(True)\n",
    "    \n",
    "    #Guardar grafico\n",
    "    ruta = f'Img_analisis/Vehiculos_municipio_des.png'\n",
    "    plt.savefig(ruta)\n",
    "\n",
    "    plt.show()\n",
    "\n",
    "\n",
    "\n",
    "#mostrar datos\n",
    "widgets.interactive(Vehiculos_municipio,municipios=Municipios_origen,mes=mes_despacho,year=year,clase_vehi=clase_vehiculo)"
   ]
  },
  {
   "cell_type": "markdown",
   "metadata": {},
   "source": [
    "### **Seccio 3.3:** Estimacion hora-destino\n",
    "****"
   ]
  },
  {
   "cell_type": "code",
   "execution_count": null,
   "metadata": {},
   "outputs": [],
   "source": [
    "def Hora_destino(municipios,mes,year,clase_vehi):\n",
    "    #Crear filtro\n",
    "    datos_filtrados=datos.loc[(datos['MUNICIPIO_ORIGEN_RUTA'].isin(municipios)) & (datos['CLASE_VEHICULO'].isin(clase_vehi)) &(datos['mes_despacho'].isin(mes))  &(datos['ano_despacho'].between(str(year[0]),str(year[-1])))].groupby('MUNICIPIO_DESTINO_RUTA')['HORA_DESPACHO'].std()\n",
    "    \n",
    "    top_10 = datos_filtrados.nlargest(10)\n",
    "\n",
    "\n",
    "    print(f\"Desviacion estandar: {top_10.std():.2f}\")\n",
    "    plt.figure(figsize=(20, 5))\n",
    "    sns.lineplot(top_10,x='MUNICIPIO_DESTINO_RUTA',y=top_10,marker='o', markersize=8)\n",
    "    \n",
    "    for y,x in zip(top_10,top_10.keys()):\n",
    "      plt.text(x,y,f'{y-top_10.std():.1f} horas',ha='center',va='bottom',fontsize=10)\n",
    "\n",
    "    plt.xlabel('Municipio Destino')\n",
    "    plt.ylabel(\"Estimacion de tiempo de llegada\")\n",
    "    plt.title(f' Promedio de duracion del viaje dado que saliste de  -{\", \".join(municipios)}-')\n",
    "    plt.grid(True)\n",
    "    \n",
    "    #Guardar grafico\n",
    "    ruta = f'Img_analisis/Hora_des.png'\n",
    "    plt.savefig(ruta)\n",
    "    plt.show()\n",
    "\n",
    "widgets.interactive(Hora_destino,municipios=Municipios_origen,mes=mes_despacho,year=year,clase_vehi=clase_vehiculo)\n",
    "    "
   ]
  },
  {
   "cell_type": "markdown",
   "metadata": {},
   "source": [
    "### **Seccion 3.4:** Distribucion de personas por terminal\n",
    "****"
   ]
  },
  {
   "cell_type": "code",
   "execution_count": null,
   "metadata": {},
   "outputs": [],
   "source": [
    "def Dist_Terminal(municipios,mes,year,clase_vehi):\n",
    "    #Crear filtro\n",
    "    datos_filtrados=datos.loc[(datos['TIPO_DESPACHO'].isin(['ORIGEN']))&(datos['MUNICIPIO_ORIGEN_RUTA'].isin(municipios)) & (datos['CLASE_VEHICULO'].isin(clase_vehi)) &(datos['mes_despacho'].isin(mes))  &(datos['ano_despacho'].between(str(year[0]),str(year[-1])))].groupby('TERMINAL')['PASAJEROS'].count()\n",
    "\n",
    "    top_10 = datos_filtrados.nlargest(10)\n",
    "    clear_output(wait=True)\n",
    "    print(top_10)\n",
    "    plt.figure(figsize=(20, 5))\n",
    "    plt.bar(top_10.keys(),top_10)\n",
    "    plt.title(f' Numero de personas presentes en los reminales del municipio de: -{\", \".join(municipios)}-')\n",
    "    plt.xlabel(\"Terminales\")\n",
    "    plt.ylabel(\"Cantidad de personas\")\n",
    "\n",
    "    #Guardar grafico\n",
    "    ruta = f'Img_analisis/Dis_terminal.png'\n",
    "    plt.savefig(ruta)\n",
    "    plt.show()\n",
    "\n",
    "    \n",
    "widgets.interactive(Dist_Terminal,municipios=Municipios_origen,mes=mes_despacho,year=year,clase_vehi=clase_vehiculo)"
   ]
  },
  {
   "cell_type": "markdown",
   "metadata": {},
   "source": [
    "### **Seccion 3.5:** Numero de vehiculos que salieron del terminal segun su municipio de origen\n",
    "***"
   ]
  },
  {
   "cell_type": "code",
   "execution_count": null,
   "metadata": {},
   "outputs": [],
   "source": [
    "def Vehi_ter(municipios,mes,year,clase_vehi):\n",
    "        # Sacar filtro\n",
    "    datos_filtrados_vehi = datos.loc[(datos['MUNICIPIO_ORIGEN_RUTA'].isin(municipios)) & (datos['CLASE_VEHICULO'].isin(clase_vehi)) &(datos['mes_despacho'].isin(mes))  &(datos['ano_despacho'].between(str(year[0]),str(year[-1])))]\n",
    "    datos_filtrados = datos.loc[(datos['MUNICIPIO_ORIGEN_RUTA'].isin(municipios)) & (datos['CLASE_VEHICULO'].isin(clase_vehi)) &(datos['mes_despacho'].isin(mes))  &(datos['ano_despacho'].between(str(year[0]),str(year[-1])))].groupby('TERMINAL')['PASAJEROS'].count()\n",
    "\n",
    "    # las 10 mejores rutas\n",
    "    datos_filtrados_vehi = datos_filtrados_vehi.pivot_table(index='TERMINAL', columns='CLASE_VEHICULO', aggfunc='size', fill_value=0)\n",
    "    top_10 = datos_filtrados.nlargest(10)\n",
    "    top_10_vehi = datos_filtrados_vehi.sort_values(by=clase_vehi[0], ascending=False)[:10]\n",
    "    \n",
    "\n",
    "    print(\"Valores de la desviacion estandar\")\n",
    "    print(pd.DataFrame(top_10_vehi).std() / len(top_10_vehi))\n",
    "    clear_output(wait=True)\n",
    "\n",
    "\n",
    "    # Creacion de grafica\n",
    "    plt.figure(figsize=(25, 5))\n",
    "    for column in clase_vehi:\n",
    "        if column in top_10_vehi:\n",
    "            plt.bar(top_10.keys(), top_10_vehi[column], label=column)\n",
    "\n",
    "    plt.legend()\n",
    "    plt.xlabel('Terminal de origen')\n",
    "    plt.ylabel('Cantidad')\n",
    "    plt.title(f'Numero de vehiculos que salen \\nde la terminal de origen en el municipio: {\", \".join(municipios)}')\n",
    "    plt.grid(True)\n",
    "\n",
    "    #Guardar grafico\n",
    "    ruta = f'Img_analisis/Salida_terminal.png'\n",
    "    plt.savefig(ruta)\n",
    "    plt.show()\n",
    "\n",
    "\n",
    "widgets.interactive(Vehi_ter,municipios=Municipios_origen,mes=mes_despacho,year=year,clase_vehi=clase_vehiculo)"
   ]
  },
  {
   "cell_type": "markdown",
   "metadata": {},
   "source": [
    "## **Seccion 4:** Subir los graficos a google sheet\n",
    "***"
   ]
  },
  {
   "cell_type": "code",
   "execution_count": null,
   "metadata": {},
   "outputs": [],
   "source": [
    "\n",
    "# Ruta local a la imagen\n",
    "for path ,_,files in os.walk('Img_analisis'):\n",
    "    for file in files:\n",
    "        ruta_imagen = f'{path}/{file}'\n",
    "        print(file[:-4])\n"
   ]
  },
  {
   "cell_type": "code",
   "execution_count": null,
   "metadata": {},
   "outputs": [],
   "source": [
    "import os\n",
    "from openpyxl import Workbook\n",
    "from openpyxl.drawing.image import Image\n",
    "\n",
    "# Ruta del directorio que contiene las imágenes\n",
    "directorio_imagenes = 'Img_analisis'\n",
    "\n",
    "# Crear un nuevo libro de Excel\n",
    "libro_excel = Workbook()\n",
    "\n",
    "# Recorrer todas las imágenes en el directorio\n",
    "for path, _, files in os.walk(directorio_imagenes):\n",
    "    for file in files:\n",
    "        ruta_imagen = os.path.join(path, file)\n",
    "\n",
    "        # Crea una nueva hoja en el libro de Excel\n",
    "        nombre_nueva_hoja = file[:-4]\n",
    "        hoja_nueva = libro_excel.create_sheet(title=nombre_nueva_hoja)\n",
    "\n",
    "        # Insertar la imagen en una celda específica (por ejemplo, celda B2)\n",
    "        imagen = Image(ruta_imagen)\n",
    "        hoja_nueva.add_image(imagen, 'B2')\n",
    "\n",
    "# Guardar el libro de Excel con las imágenes\n",
    "ruta_libro_excel = 'Content\\Graficos.xlsx'\n",
    "libro_excel.save(ruta_libro_excel)\n",
    "\n",
    "\n",
    "print(f'Imágenes insertadas en \"{ruta_libro_excel}\" correctamente.')\n"
   ]
  }
 ],
 "metadata": {
  "kernelspec": {
   "display_name": "Pinbus",
   "language": "python",
   "name": "python3"
  },
  "language_info": {
   "codemirror_mode": {
    "name": "ipython",
    "version": 3
   },
   "file_extension": ".py",
   "mimetype": "text/x-python",
   "name": "python",
   "nbconvert_exporter": "python",
   "pygments_lexer": "ipython3",
   "version": "3.10.6"
  },
  "orig_nbformat": 4
 },
 "nbformat": 4,
 "nbformat_minor": 2
}
